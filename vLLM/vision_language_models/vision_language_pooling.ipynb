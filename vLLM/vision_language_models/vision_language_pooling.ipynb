{
 "cells": [
  {
   "cell_type": "code",
   "execution_count": 2,
   "id": "ad6b3e1d-792b-4aa0-abdf-a325dafc647b",
   "metadata": {},
   "outputs": [],
   "source": [
    "from dataclasses import asdict\n",
    "from typing import Literal, NamedTuple, Optional, TypedDict, Union, get_args\n",
    "\n",
    "from PIL.Image import Image\n",
    "\n",
    "from vllm import LLM, EngineArgs\n",
    "#from vllm.entrypoints.score_utils import ScoreMultiModalParam # supported from > v0.10.2\n",
    "from vllm.multimodal.utils import fetch_image\n",
    "from vllm.utils import FlexibleArgumentParser"
   ]
  },
  {
   "cell_type": "code",
   "execution_count": 4,
   "id": "b2dc87cc-d19a-4b5c-abee-58143ab061e0",
   "metadata": {},
   "outputs": [],
   "source": [
    "class TextQuery(TypedDict):\n",
    "    modality: Literal[\"text\"]\n",
    "    text: str\n",
    "\n",
    "\n",
    "class ImageQuery(TypedDict):\n",
    "    modality: Literal[\"image\"]\n",
    "    image: Image\n",
    "\n",
    "\n",
    "class TextImageQuery(TypedDict):\n",
    "    modality: Literal[\"text+image\"]\n",
    "    text: str\n",
    "    image: Image\n",
    "\n",
    "\n",
    "# class TextImagesQuery(TypedDict):\n",
    "#     modality: Literal[\"text+images\"]\n",
    "#     text: str\n",
    "#     image: ScoreMultiModalParam"
   ]
  },
  {
   "cell_type": "code",
   "execution_count": 5,
   "id": "bdaf16a5-4fb6-4fa7-9fff-0027429d1fa4",
   "metadata": {},
   "outputs": [],
   "source": [
    "# QueryModality = Literal[\"text\", \"image\", \"text+image\", \"text+images\"]\n",
    "# Query = Union[TextQuery, ImageQuery, TextImageQuery, TextImagesQuery]\n",
    "\n",
    "QueryModality = Literal[\"text\", \"image\", \"text+image\"]\n",
    "Query = Union[TextQuery, ImageQuery, TextImageQuery]"
   ]
  },
  {
   "cell_type": "code",
   "execution_count": 6,
   "id": "708e755f-2292-4a38-bdd3-1ed895ffe5f2",
   "metadata": {},
   "outputs": [],
   "source": [
    "class ModelRequestData(NamedTuple):\n",
    "    engine_args: EngineArgs\n",
    "    prompt: Optional[str] = None\n",
    "    image: Optional[Image] = None\n",
    "    query: Optional[str] = None\n",
    "    # documents: Optional[ScoreMultiModalParam] = None"
   ]
  },
  {
   "cell_type": "markdown",
   "id": "24b65efd-433d-49bc-be88-250117e153ed",
   "metadata": {},
   "source": [
    "### e5-v"
   ]
  },
  {
   "cell_type": "code",
   "execution_count": 18,
   "id": "959bdf91-7cd4-415d-8091-2885a2d5547a",
   "metadata": {},
   "outputs": [],
   "source": [
    "def run_e5_v(query: Query) -> ModelRequestData:\n",
    "    llama3_template = \"<|start_header_id|>user<|end_header_id|>\\n\\n{}<|eot_id|><|start_header_id|>assistant<|end_header_id|>\\n\\n \\n\"  # noqa: E501\n",
    "\n",
    "    if query[\"modality\"] == \"text\":\n",
    "        text = query[\"text\"]\n",
    "        prompt = llama3_template.format(f\"{text}\\nSummary above sentence in one word: \")\n",
    "        image = None\n",
    "    elif query[\"modality\"] == \"image\":\n",
    "        prompt = llama3_template.format(\"<image>\\nSummary above image in one word: \")\n",
    "        image = query[\"image\"]\n",
    "    else:\n",
    "        modality = query[\"modality\"]\n",
    "        raise ValueError(f\"Unsupported query modality: '{modality}'\")\n",
    "\n",
    "    engine_args = EngineArgs(\n",
    "        model=\"royokong/e5-v\",\n",
    "        # runner=\"pooling\", # supported from > v0.10.2\n",
    "        task=\"embed\",\n",
    "        max_model_len=4096,\n",
    "        limit_mm_per_prompt={\"image\": 1},\n",
    "    )\n",
    "\n",
    "    return ModelRequestData(\n",
    "        engine_args=engine_args,\n",
    "        prompt=prompt,\n",
    "        image=image,\n",
    "    )"
   ]
  },
  {
   "cell_type": "markdown",
   "id": "47495ff3-68e0-4c65-a731-2fa39a0c0177",
   "metadata": {},
   "source": [
    "### VLM2Vec"
   ]
  },
  {
   "cell_type": "code",
   "execution_count": 19,
   "id": "b7e6ab63-8be8-4bf0-a2f4-e7b1b3bf87e2",
   "metadata": {},
   "outputs": [],
   "source": [
    "def run_vlm2vec(query: Query) -> ModelRequestData:\n",
    "    if query[\"modality\"] == \"text\":\n",
    "        text = query[\"text\"]\n",
    "        prompt = f\"Find me an everyday image that matches the given caption: {text}\"  # noqa: E501\n",
    "        image = None\n",
    "    elif query[\"modality\"] == \"image\":\n",
    "        prompt = \"<|image_1|> Find a day-to-day image that looks similar to the provided image.\"  # noqa: E501\n",
    "        image = query[\"image\"]\n",
    "    elif query[\"modality\"] == \"text+image\":\n",
    "        text = query[\"text\"]\n",
    "        prompt = (\n",
    "            f\"<|image_1|> Represent the given image with the following question: {text}\"  # noqa: E501\n",
    "        )\n",
    "        image = query[\"image\"]\n",
    "    else:\n",
    "        modality = query[\"modality\"]\n",
    "        raise ValueError(f\"Unsupported query modality: '{modality}'\")\n",
    "\n",
    "    engine_args = EngineArgs(\n",
    "        model=\"TIGER-Lab/VLM2Vec-Full\",\n",
    "        # runner=\"pooling\", # supported from > v0.10.2\n",
    "        task=\"embed\",\n",
    "        max_model_len=4096,\n",
    "        trust_remote_code=True,\n",
    "        mm_processor_kwargs={\"num_crops\": 4},\n",
    "        limit_mm_per_prompt={\"image\": 1},\n",
    "    )\n",
    "\n",
    "    return ModelRequestData(\n",
    "        engine_args=engine_args,\n",
    "        prompt=prompt,\n",
    "        image=image,\n",
    "    )"
   ]
  },
  {
   "cell_type": "markdown",
   "id": "2912c970-fc97-4b9c-9272-128dd2b7d95c",
   "metadata": {},
   "source": [
    "### jina-reranker-m0"
   ]
  },
  {
   "cell_type": "code",
   "execution_count": 20,
   "id": "c83f2cfa-39a3-4a70-a6c8-0dac21dd6b71",
   "metadata": {},
   "outputs": [],
   "source": [
    "def run_jinavl_reranker(query: Query) -> ModelRequestData:\n",
    "    if query[\"modality\"] != \"text+images\":\n",
    "        raise ValueError(f\"Unsupported query modality: '{query['modality']}'\")\n",
    "\n",
    "    engine_args = EngineArgs(\n",
    "        model=\"jinaai/jina-reranker-m0\",\n",
    "        runner=\"pooling\", # supported from > v0.10.2\n",
    "        max_model_len=32768,\n",
    "        trust_remote_code=True,\n",
    "        mm_processor_kwargs={\n",
    "            \"min_pixels\": 3136,\n",
    "            \"max_pixels\": 602112,\n",
    "        },\n",
    "        limit_mm_per_prompt={\"image\": 1},\n",
    "    )\n",
    "\n",
    "    return ModelRequestData(\n",
    "        engine_args=engine_args,\n",
    "        query=query[\"text\"],\n",
    "        documents=query[\"image\"],\n",
    "    )"
   ]
  },
  {
   "cell_type": "markdown",
   "id": "22368d0e-4f0d-4deb-a941-e883fa9cffde",
   "metadata": {},
   "source": [
    "## Model Map"
   ]
  },
  {
   "cell_type": "code",
   "execution_count": 21,
   "id": "6d162f32-d04b-4612-99cd-84126f3f248a",
   "metadata": {},
   "outputs": [],
   "source": [
    "model_example_map = {\n",
    "    \"e5_v\": run_e5_v,\n",
    "    \"vlm2vec\": run_vlm2vec,\n",
    "    \"jinavl_reranker\": run_jinavl_reranker, # supported from > v0.10.2\n",
    "}"
   ]
  },
  {
   "cell_type": "markdown",
   "id": "efc8c71e-a611-4bb1-8455-13a1cea3199e",
   "metadata": {},
   "source": [
    "## Inference"
   ]
  },
  {
   "cell_type": "code",
   "execution_count": 22,
   "id": "893216ae-c681-4337-95fe-7ffbf9da27ae",
   "metadata": {},
   "outputs": [],
   "source": [
    "def get_query(modality: QueryModality):\n",
    "    if modality == \"text\":\n",
    "        return TextQuery(modality=\"text\", text=\"A dog sitting in the grass\")\n",
    "\n",
    "    if modality == \"image\":\n",
    "        return ImageQuery(\n",
    "            modality=\"image\",\n",
    "            image=fetch_image(\n",
    "                \"https://upload.wikimedia.org/wikipedia/commons/thumb/4/47/American_Eskimo_Dog.jpg/360px-American_Eskimo_Dog.jpg\"  # noqa: E501\n",
    "            ),\n",
    "        )\n",
    "\n",
    "    if modality == \"text+image\":\n",
    "        return TextImageQuery(\n",
    "            modality=\"text+image\",\n",
    "            text=\"A cat standing in the snow.\",\n",
    "            image=fetch_image(\n",
    "                \"https://upload.wikimedia.org/wikipedia/commons/thumb/b/b6/Felis_catus-cat_on_snow.jpg/179px-Felis_catus-cat_on_snow.jpg\"  # noqa: E501\n",
    "            ),\n",
    "        )\n",
    "\n",
    "    # if modality == \"text+images\":\n",
    "    #     return TextImagesQuery(\n",
    "    #         modality=\"text+images\",\n",
    "    #         text=\"slm markdown\",\n",
    "    #         image={\n",
    "    #             \"content\": [\n",
    "    #                 {\n",
    "    #                     \"type\": \"image_url\",\n",
    "    #                     \"image_url\": {\n",
    "    #                         \"url\": \"https://raw.githubusercontent.com/jina-ai/multimodal-reranker-test/main/handelsblatt-preview.png\"\n",
    "    #                     },\n",
    "    #                 },\n",
    "    #                 {\n",
    "    #                     \"type\": \"image_url\",\n",
    "    #                     \"image_url\": {\n",
    "    #                         \"url\": \"https://raw.githubusercontent.com/jina-ai/multimodal-reranker-test/main/paper-11.png\"\n",
    "    #                     },\n",
    "    #                 },\n",
    "    #             ]\n",
    "    #         },\n",
    "    #     )\n",
    "\n",
    "    msg = f\"Modality {modality} is not supported.\"\n",
    "    raise ValueError(msg)"
   ]
  },
  {
   "cell_type": "markdown",
   "id": "ed7d44e7-7872-4a67-a7ed-00c5696dfa7b",
   "metadata": {},
   "source": [
    "### Embedding task"
   ]
  },
  {
   "cell_type": "code",
   "execution_count": 23,
   "id": "849f7b3a-cbd7-499e-8208-7c7d19ec32e5",
   "metadata": {},
   "outputs": [],
   "source": [
    "def run_encode(model: str, modality: QueryModality, seed: Optional[int]):\n",
    "    query = get_query(modality)\n",
    "    req_data = model_example_map[model](query)\n",
    "\n",
    "    # Disable other modalities to save memory\n",
    "    default_limits = {\"image\": 0, \"video\": 0, \"audio\": 0}\n",
    "    req_data.engine_args.limit_mm_per_prompt = default_limits | dict(\n",
    "        req_data.engine_args.limit_mm_per_prompt or {}\n",
    "    )\n",
    "\n",
    "    engine_args = asdict(req_data.engine_args) | {\"seed\": seed}\n",
    "    llm = LLM(**engine_args)\n",
    "\n",
    "    mm_data = {}\n",
    "    if req_data.image is not None:\n",
    "        mm_data[\"image\"] = req_data.image\n",
    "\n",
    "    outputs = llm.embed(\n",
    "        {\n",
    "            \"prompt\": req_data.prompt,\n",
    "            \"multi_modal_data\": mm_data,\n",
    "        }\n",
    "    )\n",
    "\n",
    "    print(\"-\" * 50)\n",
    "    for output in outputs:\n",
    "        print(output.outputs.embedding)\n",
    "        print(\"-\" * 50)"
   ]
  },
  {
   "cell_type": "markdown",
   "id": "25bf2451-d7bb-4a5b-9087-41d7582dd3cd",
   "metadata": {},
   "source": [
    "### Scoring task"
   ]
  },
  {
   "cell_type": "code",
   "execution_count": 24,
   "id": "8f1e50d0-9633-4ab9-8c78-8106256db6a3",
   "metadata": {},
   "outputs": [],
   "source": [
    "def run_score(model: str, modality: QueryModality, seed: Optional[int]):\n",
    "    query = get_query(modality)\n",
    "    req_data = model_example_map[model](query)\n",
    "\n",
    "    engine_args = asdict(req_data.engine_args) | {\"seed\": seed}\n",
    "    llm = LLM(**engine_args)\n",
    "\n",
    "    outputs = llm.score(req_data.query, req_data.documents)\n",
    "\n",
    "    print(\"-\" * 30)\n",
    "    print([output.outputs.score for output in outputs])\n",
    "    print(\"-\" * 30)"
   ]
  },
  {
   "cell_type": "markdown",
   "id": "f009f88c-8859-4417-9888-7e4da380ce07",
   "metadata": {},
   "source": [
    "### Examples"
   ]
  },
  {
   "cell_type": "code",
   "execution_count": 25,
   "id": "00f95416-2897-4940-93be-3fdbc10ea64a",
   "metadata": {
    "scrolled": true
   },
   "outputs": [
    {
     "data": {
      "application/vnd.jupyter.widget-view+json": {
       "model_id": "dedbbb31b01c4fd4be84f5332055a71c",
       "version_major": 2,
       "version_minor": 0
      },
      "text/plain": [
       "config.json: 0.00B [00:00, ?B/s]"
      ]
     },
     "metadata": {},
     "output_type": "display_data"
    },
    {
     "data": {
      "application/vnd.jupyter.widget-view+json": {
       "model_id": "3e6378e6230b4ff6ab57df1497715d06",
       "version_major": 2,
       "version_minor": 0
      },
      "text/plain": [
       "preprocessor_config.json:   0%|          | 0.00/772 [00:00<?, ?B/s]"
      ]
     },
     "metadata": {},
     "output_type": "display_data"
    },
    {
     "data": {
      "application/vnd.jupyter.widget-view+json": {
       "model_id": "3741097ee2a3497e842143a3173403a8",
       "version_major": 2,
       "version_minor": 0
      },
      "text/plain": [
       "tokenizer_config.json: 0.00B [00:00, ?B/s]"
      ]
     },
     "metadata": {},
     "output_type": "display_data"
    },
    {
     "name": "stdout",
     "output_type": "stream",
     "text": [
      "INFO 09-24 19:37:56 [config.py:1467] Using max model len 4096\n",
      "INFO 09-24 19:37:56 [arg_utils.py:1580] (Disabling) chunked prefill by default\n",
      "INFO 09-24 19:37:56 [arg_utils.py:1583] (Disabling) prefix caching by default\n",
      "INFO 09-24 19:38:03 [config.py:4566] full_cuda_graph is not supported with cascade attention. Disabling cascade attention.\n",
      "INFO 09-24 19:38:03 [config.py:4581] Only \"last\" pooling supports chunked prefill and prefix caching; disabling both.\n"
     ]
    },
    {
     "data": {
      "application/vnd.jupyter.widget-view+json": {
       "model_id": "24061b40746b430ab862a96b65635a6d",
       "version_major": 2,
       "version_minor": 0
      },
      "text/plain": [
       "tokenizer.json: 0.00B [00:00, ?B/s]"
      ]
     },
     "metadata": {},
     "output_type": "display_data"
    },
    {
     "data": {
      "application/vnd.jupyter.widget-view+json": {
       "model_id": "63b4ac583a4a465c83f3cae14887ac32",
       "version_major": 2,
       "version_minor": 0
      },
      "text/plain": [
       "special_tokens_map.json:   0%|          | 0.00/325 [00:00<?, ?B/s]"
      ]
     },
     "metadata": {},
     "output_type": "display_data"
    },
    {
     "data": {
      "application/vnd.jupyter.widget-view+json": {
       "model_id": "f93f19aa37734c49870b60076787536d",
       "version_major": 2,
       "version_minor": 0
      },
      "text/plain": [
       "generation_config.json:   0%|          | 0.00/121 [00:00<?, ?B/s]"
      ]
     },
     "metadata": {},
     "output_type": "display_data"
    },
    {
     "name": "stdout",
     "output_type": "stream",
     "text": [
      "WARNING 09-24 19:38:04 [utils.py:2613] We must use the `spawn` multiprocessing start method. Overriding VLLM_WORKER_MULTIPROC_METHOD to 'spawn'. See https://docs.vllm.ai/en/latest/usage/troubleshooting.html#python-multiprocessing for more information. Reason: CUDA is initialized\n",
      "INFO 09-24 19:38:07 [__init__.py:244] Automatically detected platform rocm.\n",
      "INFO 09-24 19:38:16 [core.py:459] Waiting for init message from front-end.\n",
      "INFO 09-24 19:38:16 [config.py:4581] Only \"last\" pooling supports chunked prefill and prefix caching; disabling both.\n",
      "INFO 09-24 19:38:16 [core.py:69] Initializing a V1 LLM engine (v0.9.2.dev364+gb432b7a28) with config: model='royokong/e5-v', speculative_config=None, tokenizer='royokong/e5-v', skip_tokenizer_init=False, tokenizer_mode=auto, revision=None, override_neuron_config={}, tokenizer_revision=None, trust_remote_code=False, dtype=torch.float16, max_seq_len=4096, download_dir=None, load_format=LoadFormat.AUTO, tensor_parallel_size=1, pipeline_parallel_size=1, disable_custom_all_reduce=False, quantization=None, enforce_eager=False, kv_cache_dtype=auto,  device_config=cuda, decoding_config=DecodingConfig(backend='auto', disable_fallback=False, disable_any_whitespace=False, disable_additional_properties=False, reasoning_backend=''), observability_config=ObservabilityConfig(show_hidden_metrics_for_version=None, otlp_traces_endpoint=None, collect_detailed_traces=None), seed=42, served_model_name=royokong/e5-v, num_scheduler_steps=1, multi_step_stream_outputs=True, enable_prefix_caching=False, chunked_prefill_enabled=False, use_async_output_proc=False, pooler_config=PoolerConfig(pooling_type=None, normalize=None, softmax=None, step_tag_id=None, returned_token_ids=None), compilation_config={\"level\":3,\"debug_dump_path\":\"\",\"cache_dir\":\"\",\"backend\":\"\",\"custom_ops\":[\"+rms_norm\",\"+silu_and_mul\"],\"splitting_ops\":[],\"use_inductor\":true,\"compile_sizes\":[],\"inductor_compile_config\":{\"enable_auto_functionalized_v2\":false},\"inductor_passes\":{},\"use_cudagraph\":true,\"cudagraph_num_of_warmups\":1,\"cudagraph_capture_sizes\":[512,504,496,488,480,472,464,456,448,440,432,424,416,408,400,392,384,376,368,360,352,344,336,328,320,312,304,296,288,280,272,264,256,248,240,232,224,216,208,200,192,184,176,168,160,152,144,136,128,120,112,104,96,88,80,72,64,56,48,40,32,24,16,8,4,2,1],\"cudagraph_copy_inputs\":false,\"full_cuda_graph\":true,\"max_capture_size\":512,\"local_cache_dir\":null}\n",
      "WARNING 09-24 19:38:16 [utils.py:2753] Methods determine_num_available_blocks,device_config,get_cache_block_size_bytes not implemented in <vllm.v1.worker.gpu_worker.Worker object at 0x736fdf7b9d00>\n",
      "INFO 09-24 19:38:17 [parallel_state.py:1076] rank 0 in world size 1 is assigned as DP rank 0, PP rank 0, TP rank 0, EP rank 0\n"
     ]
    },
    {
     "name": "stderr",
     "output_type": "stream",
     "text": [
      "Using a slow image processor as `use_fast` is unset and a slow processor was saved with this model. `use_fast=True` will be the default behavior in v4.52, even if the model was saved with a slow processor. This will result in minor differences in outputs. You'll still be able to use a slow processor with `use_fast=False`.\n"
     ]
    },
    {
     "name": "stdout",
     "output_type": "stream",
     "text": [
      "INFO 09-24 19:38:18 [gpu_model_runner.py:1751] Starting to load model royokong/e5-v...\n",
      "INFO 09-24 19:38:19 [gpu_model_runner.py:1756] Loading model from scratch...\n",
      "INFO 09-24 19:38:19 [rocm.py:224] Using Triton Attention backend on V1 engine.\n",
      "INFO 09-24 19:38:19 [config.py:4581] Only \"last\" pooling supports chunked prefill and prefix caching; disabling both.\n",
      "INFO 09-24 19:38:19 [rocm.py:224] Using Triton Attention backend on V1 engine.\n",
      "INFO 09-24 19:38:19 [weight_utils.py:292] Using model weights format ['*.safetensors']\n",
      "INFO 09-24 19:38:32 [weight_utils.py:308] Time spent downloading weights for royokong/e5-v: 13.168944 seconds\n"
     ]
    },
    {
     "name": "stderr",
     "output_type": "stream",
     "text": [
      "Loading safetensors checkpoint shards:   0% Completed | 0/4 [00:00<?, ?it/s]\n",
      "Loading safetensors checkpoint shards:  25% Completed | 1/4 [00:01<00:04,  1.66s/it]\n",
      "Loading safetensors checkpoint shards:  50% Completed | 2/4 [00:03<00:03,  1.74s/it]\n",
      "Loading safetensors checkpoint shards:  75% Completed | 3/4 [00:05<00:01,  1.78s/it]\n",
      "Loading safetensors checkpoint shards: 100% Completed | 4/4 [00:05<00:00,  1.24s/it]\n",
      "Loading safetensors checkpoint shards: 100% Completed | 4/4 [00:05<00:00,  1.42s/it]\n",
      "\n"
     ]
    },
    {
     "name": "stdout",
     "output_type": "stream",
     "text": [
      "INFO 09-24 19:38:38 [default_loader.py:272] Loading weights took 5.72 seconds\n",
      "INFO 09-24 19:38:38 [gpu_model_runner.py:1782] Model loading took 15.6055 GiB and 19.177332 seconds\n",
      "INFO 09-24 19:38:38 [gpu_model_runner.py:2221] Encoder cache will be initialized with a budget of 4096 tokens, and profiled with 2 image items of the maximum feature size.\n",
      "INFO 09-24 19:39:03 [backends.py:509] Using cache directory: /root/.cache/vllm/torch_compile_cache/92c636d592/rank_0_0/backbone for vLLM's torch.compile\n",
      "INFO 09-24 19:39:03 [backends.py:520] Dynamo bytecode transform time: 4.85 s\n",
      "INFO 09-24 19:39:19 [backends.py:181] Cache the graph of shape None for later use\n",
      "INFO 09-24 19:39:19 [backends.py:193] Compiling a graph for general shape takes 14.45 s\n",
      "INFO 09-24 19:39:22 [monitor.py:34] torch.compile takes 19.29 s in total\n",
      "INFO 09-24 19:39:47 [gpu_worker.py:232] Available KV cache memory: 155.50 GiB\n",
      "INFO 09-24 19:39:48 [kv_cache_utils.py:716] GPU KV cache size: 1,273,872 tokens\n",
      "INFO 09-24 19:39:48 [kv_cache_utils.py:720] Maximum concurrency for 4,096 tokens per request: 311.00x\n",
      "INFO 09-24 19:39:48 [rocm.py:224] Using Triton Attention backend on V1 engine.\n"
     ]
    },
    {
     "name": "stderr",
     "output_type": "stream",
     "text": [
      "Capturing CUDA graphs: 100%|██████████| 67/67 [00:15<00:00,  4.39it/s]\n"
     ]
    },
    {
     "name": "stdout",
     "output_type": "stream",
     "text": [
      "INFO 09-24 19:40:03 [gpu_model_runner.py:2306] Graph capturing finished in 15 secs, took 0.56 GiB\n",
      "INFO 09-24 19:40:03 [core.py:172] init engine (profile, create kv cache, warmup model) took 85.09 seconds\n"
     ]
    },
    {
     "data": {
      "application/vnd.jupyter.widget-view+json": {
       "model_id": "7027528cdb3043d8a5b208666770f527",
       "version_major": 2,
       "version_minor": 0
      },
      "text/plain": [
       "Adding requests:   0%|          | 0/1 [00:00<?, ?it/s]"
      ]
     },
     "metadata": {},
     "output_type": "display_data"
    },
    {
     "name": "stderr",
     "output_type": "stream",
     "text": [
      "Using a slow image processor as `use_fast` is unset and a slow processor was saved with this model. `use_fast=True` will be the default behavior in v4.52, even if the model was saved with a slow processor. This will result in minor differences in outputs. You'll still be able to use a slow processor with `use_fast=False`.\n"
     ]
    },
    {
     "data": {
      "application/vnd.jupyter.widget-view+json": {
       "model_id": "5ff4cbd81c6a4ecd9f347f869a5f56a7",
       "version_major": 2,
       "version_minor": 0
      },
      "text/plain": [
       "Processed prompts:   0% 0/1 [00:00<?, ?it/s, est. speed input: 0.00 toks/s, output: 0.00 toks/s]"
      ]
     },
     "metadata": {},
     "output_type": "display_data"
    },
    {
     "name": "stdout",
     "output_type": "stream",
     "text": [
      "--------------------------------------------------\n",
      "[-0.005020863376557827, -0.007925724610686302, -0.0086805559694767, 0.03563791885972023, 0.000362140970537439, -0.005002301651984453, -0.002409890526905656, 0.03875623643398285, -0.021865349262952805, 0.018982142210006714, -0.0001366970973322168, -0.024340204894542694, -0.03264334425330162, -0.02009582705795765, -0.0034276749938726425, -0.014366536401212215, -0.02050417847931385, 0.03259384632110596, -0.020553674548864365, -9.077692811843008e-05, 0.016098935157060623, 0.01502237282693386, 0.007436940912157297, -0.025614755228161812, 0.006211887579411268, -0.0031136777251958847, -0.0013371953973546624, 0.009317831136286259, 0.02546626329421997, 0.0018360334215685725, 0.012597015127539635, 0.0028863002080470324, 0.018363427370786667, -0.009416825138032436, -0.021481746807694435, -0.0017973638605326414, -0.0002461321128066629, 0.010549072176218033, 0.000602859363425523, 0.0007134544430300593, 0.00822889432311058, -0.0037834353279322386, -0.012473272159695625, 0.01337659452110529, -0.012931120581924915, 0.006595490034669638, -0.00952819362282753, -0.018115943297743797, 0.009107468649744987, 0.006638800259679556, 0.019774096086621284, 0.015987567603588104, -0.010864616371691227, 0.007622555363923311, 0.010041726753115654, -0.00041647179750725627, 0.0008020078530535102, 0.02648095414042473, 0.006700671277940273, -0.0004373533884063363, -0.00927452091127634, 0.015839075669646263, -0.012423775158822536, 0.002105174120515585, -0.008253643289208412, 0.001840673852711916, -0.001270683598704636, 0.002009273273870349, 0.00017507669690530747, -0.00169836962595582, 0.038558248430490494, -0.020021582022309303, -0.010338708758354187, -0.03729607164859772, 0.009812802076339722, -0.02231082320213318, 0.017843708395957947, -0.020986774936318398, 0.015999941155314445, 0.013871565461158752, 0.020937278866767883, -0.00881667248904705, 0.018610913306474686, -0.026579948142170906, 0.01207729522138834, 0.008247456513345242, 0.015331730246543884, -0.015690583735704422, 0.0329403281211853, -0.012182476930320263, -0.0032699028961360455, 0.0009837551042437553, -0.01325285155326128, -0.007220391184091568, 0.0060572088696062565, -0.00868674274533987, -0.028535084798932076, 0.005543676670640707, -0.019538985565304756, 0.0023882356472313404, -0.03328680619597435, 0.015752455219626427, -0.01762097142636776, 0.0287083238363266, 0.004937336780130863, -0.005339500959962606, -0.00708427419885993, 0.008859982714056969, 0.008408321999013424, 0.01455215085297823, -0.013685951009392738, -0.0006639573257416487, 0.029351787641644478, 0.008723866194486618, -0.0020061798859387636, -0.0008306233794428408, 0.00993035826832056, 0.020986774936318398, -0.0065150572918355465, -0.0020726914517581463, -0.0004945844411849976, 0.0071028354577720165, -0.01816543936729431, 0.01711362600326538, 0.01195355225354433, 0.01462639681994915, -0.016272176057100296, 0.018313931301236153, 0.003057993482798338, -0.006576928775757551, -0.002477949019521475, 0.0019474020227789879, 0.022360319271683693, -0.013809693977236748, 0.015690583735704422, 0.035712167620658875, -0.03001999855041504, 0.010759434662759304, -0.0020402090158313513, 0.014131424948573112, 0.040166907012462616, -0.010091223753988743, 0.0033472422510385513, 0.004767190665006638, -0.011458581313490868, 0.026604697108268738, -0.001733945682644844, -0.008470193482935429, -0.003727751085534692, -0.02922804467380047, -0.00632944330573082, 0.022545933723449707, -0.005187916103750467, -0.01162563357502222, 0.01788083091378212, 0.005184822250157595, -0.011433832347393036, -0.003393645631149411, -0.010753247886896133, -0.0025692093186080456, -0.010412954725325108, 0.0002159698196919635, 0.006471747532486916, 0.017658093944191933, -0.0009822082938626409, 0.019229628145694733, -0.0001901578507386148, -0.021048646420240402, 0.008303140290081501, 0.00568288704380393, 0.018041696399450302, 0.017955077812075615, -0.003467891365289688, 0.001320954179391265, 0.008773363195359707, 0.0054044658318161964, 0.008897106163203716, -0.004658915568143129, 0.017979824915528297, 0.03652886673808098, -0.007096648216247559, 0.017695216462016106, -0.0006272211903706193, -0.003944301046431065, 0.034796468913555145, 0.013525085523724556, 0.02766888588666916, 0.012757880613207817, 0.009719994850456715, 0.01698988303542137, 0.018697533756494522, -0.014836759306490421, 0.006620238535106182, -0.0034369556233286858, -0.01136577408760786, -0.0035823534708470106, -0.015443098731338978, -0.03328680619597435, 0.005723103415220976, -5.6650991609785706e-05, 0.014255167916417122, 0.009955106303095818, -0.020145324990153313, 0.007164706941694021, 0.010635691694915295, -0.008643433451652527, -0.020318564027547836, 0.009571503847837448, 0.0013928796397522092, 0.0007467103423550725, -0.0023650338407605886, 0.02546626329421997, -0.010685188695788383, 0.00521885184571147, -0.06647462397813797, -0.02087540738284588, -0.008457818999886513, 0.011446206830441952, 0.01496050227433443, -0.013772571459412575, -0.02885681577026844, -0.00453517260029912, -0.006935782730579376, 0.013735448010265827, -0.002635721117258072, 0.013958184979856014, 0.009676685556769371, -0.0099117960780859, -0.004123728256672621, -0.033509545028209686, -0.0005881648976355791, -0.003464797744527459, -0.014651144854724407, 0.021518869325518608, -0.019650353118777275, 0.012955868616700172, 0.03551417589187622, -0.004395962227135897, 0.0009566863300278783, -0.002044849330559373, -0.0012312406906858087, -0.009806615300476551, -0.001030158600769937, -0.01383444294333458, -0.01712600141763687, 0.019031640142202377, 0.0028600050136446953, 0.039869923144578934, 0.015566841699182987, -0.006453185807913542, -0.006440811790525913, 0.019291499629616737, 0.020442306995391846, -0.010685188695788383, -0.01724974252283573, -0.013908687978982925, -0.00939207710325718, -0.02193959429860115, -0.04110734909772873, -0.0041794124990701675, -0.00873623974621296, 0.004894027020782232, -0.007566870655864477, -0.034672725945711136, 0.001276870840229094, -0.026802685111761093, -0.0024624813813716173, 0.0037153768353164196, -0.0005054118810221553, 5.568424967350438e-05, 0.008996100164949894, -0.0203680619597435, 0.002247478114441037, -0.027124416083097458, -0.010679001919925213, -0.011266780085861683, 0.02650570310652256, -0.02846083976328373, -0.028040112927556038, -0.00939207710325718, 0.03105943650007248, -0.0002635334385558963, 0.01603706367313862, -0.005286910105496645, -0.022768670693039894, 0.013624079525470734, 0.0036535055842250586, -0.019353371113538742, -0.029574524611234665, 0.017262117937207222, 0.015096618793904781, 0.009243585169315338, 0.01266507338732481, 0.009917983785271645, 0.009249772876501083, 0.013896314427256584, 0.02038043551146984, -0.018499545753002167, -0.013673576526343822, 0.005670513026416302, -0.015839075669646263, -0.0007668185280635953, -0.01904401369392872, 0.007325572427362204, -0.009379702620208263, -0.00244546658359468, -0.007226578425616026, 0.0074678766541182995, -0.001760240993462503, 0.009243585169315338, -0.011198721826076508, 0.019105885177850723, 0.037023838609457016, 0.004897120408713818, -0.006320162210613489, 0.011984487995505333, 0.009812802076339722, 0.005345688201487064, -0.008785737678408623, 0.008872357197105885, -0.002493416890501976, -0.025392018258571625, -0.025033164769411087, -0.0027950399089604616, 0.004232002887874842, -0.012559891678392887, -0.020145324990153313, -0.01972459815442562, -0.015542092733085155, -0.011390523053705692, -0.022372694686055183, -0.016235051676630974, -0.033113569021224976, 0.001501927967183292, 0.0339055210351944, 0.020442306995391846, -0.008989912457764149, 0.010895551182329655, -0.0033348677679896355, 0.0013371953973546624, -0.010530509985983372, 0.022162331268191338, 0.003006949555128813, -0.01267126016318798, 0.022805793210864067, 0.0177694633603096, -0.012522769160568714, -0.02427833341062069, -0.0018422206630930305, 0.004757910035550594, 0.009460135363042355, 0.006490308791399002, 0.012491833418607712, -0.01546784769743681, 0.023016156628727913, 0.019675102084875107, -5.3992454922990873e-05, -0.0023047092836350203, 0.004133008886128664, -0.008705304004251957, 0.007585432380437851, -0.02309040166437626, 0.007573057897388935, -4.6089349780231714e-05, -0.017571475356817245, -0.008185585029423237, -0.00880429893732071, 0.021902471780776978, -0.02414221689105034, 0.014007682912051678, 0.005011582747101784, -0.0017231182428076863, -0.00022718400578014553, -0.007474063895642757, -0.012021610513329506, 0.010604755952954292, 0.017979824915528297, 0.0031152244191616774, 0.017917953431606293, 0.014589273370802402, 0.007430753670632839, 0.021593114361166954, 0.0022397441789507866, -0.012943495064973831, -0.0013766384217888117, -0.021061019971966743, 0.026802685111761093, -0.004068044014275074, -0.011638008058071136, 0.006239729467779398, -0.03801378235220909, 0.002861551707610488, -0.012931120581924915, -0.01786845736205578, -0.00947250984609127, -0.011068791151046753, 0.011737002059817314, 0.011860745027661324, 0.0007644983706995845, 0.03509345278143883, -0.017460105940699577, 0.00947250984609127, -0.03907797113060951, 0.0008824407123029232, 0.008847608231008053, 0.011934990994632244, -0.024055596441030502, 0.009744743816554546, 0.016012314707040787, -0.009404451586306095, 0.012646512128412724, 0.0014276823494583368, -0.004918775521218777, -0.012027798220515251, -0.0023263641633093357, 0.025515761226415634, -0.007096648216247559, 0.006434624549001455, 0.0012436149409040809, 0.01409430243074894, -0.0049033076502382755, 0.009818989783525467, 0.003823651932179928, 0.012287657707929611, -0.011526639573276043, -0.013685951009392738, 0.015059496276080608, -0.0030781016685068607, 0.020318564027547836, 0.004541359841823578, 0.009689059108495712, -0.005599360913038254, -0.005537489429116249, -0.011600885540246964, 0.004136102274060249, -0.009491071105003357, -0.012553704902529716, -0.00014288423699326813, 0.014799635857343674, 0.010431515984237194, -0.015999941155314445, 0.005107483360916376, -0.005939653143286705, 0.017719965428113937, -0.0040587629191577435, 0.004485675599426031, -0.019489487633109093, 0.031108934432268143, -0.006960531231015921, 0.0220757108181715, 0.029426032677292824, 0.005948934238404036, 0.005518927704542875, 0.019143007695674896, 0.02169210836291313, 0.035835906863212585, 0.007288449443876743, 0.0037772483192384243, -0.08691693097352982, 0.022805793210864067, 0.012603201903402805, 0.0003536336589604616, -0.005914904642850161, 0.008705304004251957, -0.006016992498189211, -0.028386592864990234, -0.00463726045563817, -0.012380464933812618, 0.00437740096822381, -0.014898630790412426, 0.0073750694282352924, 0.011297715827822685, -0.0032018444035202265, 0.0037865289486944675, -0.001546784769743681, 0.011421458795666695, 0.015368852764368057, 0.018846025690436363, 0.0055684251710772514, -0.010351083241403103, 0.001998445950448513, 0.0042505646124482155, 0.003662786213681102, 0.0030796483624726534, -0.006397501565515995, 0.027074920013546944, -0.03462322801351547, 0.005890156142413616, 0.023733865469694138, 0.013611705973744392, -0.0057973493821918964, 0.013723074458539486, -0.028139106929302216, 0.016123684123158455, -0.024476321414113045, 0.0056983549147844315, 0.00020958932873327285, 0.008822860196232796, -0.0028182417154312134, -0.020145324990153313, 0.019910212606191635, 0.03561317175626755, 0.018969768658280373, 0.01195355225354433, 0.0025955047458410263, 0.017299240455031395, -0.01593806967139244, -0.01931624859571457, -0.029599271714687347, 0.008866170421242714, 0.013228102587163448, -0.0016798082506284118, 0.001422268571332097, 0.012609388679265976, 0.0050672669894993305, 0.00708427419885993, 0.021308505907654762, 0.0002550261269789189, -0.0036194762215018272, -0.01670527458190918, -0.019749347120523453, 0.013698325492441654, -0.014292290434241295, 0.00662642577663064, -0.018635662272572517, 0.002292335033416748, 0.0099117960780859, 0.015876198187470436, -0.006842975504696369, 0.017658093944191933, 0.009503445588052273, 0.0002018554077949375, 0.013995308429002762, -0.009874673560261726, 0.0009311644244007766, 0.017299240455031395, 0.0059210918843746185, 0.02779262885451317, -0.011650382541120052, -0.005135325249284506, -0.03536568582057953, -0.002825975650921464, -0.021877722814679146, 0.00881667248904705, 0.0037308447062969208, 0.0011020840611308813, 0.004278406500816345, -0.0037370319478213787, -0.011842183768749237, 0.013809693977236748, -0.001344929332844913, 0.01866041123867035, 0.012559891678392887, -0.0009443120798096061, 0.023214144632220268, -0.01971222460269928, -0.002528992947191, -0.01514611579477787, 0.004597044084221125, -0.007931912317872047, 0.010920300148427486, 0.00016154232434928417, 0.000988395418971777, -0.014007682912051678, 0.0032791835255920887, -0.02325126715004444, 0.014242793433368206, -0.00633563008159399, 0.007826730608940125, 0.01932862214744091, 0.00816702377051115, 0.014589273370802402, 0.007294636685401201, -0.0034431428648531437, 0.007659677881747484, -0.0010773355606943369, -0.0017138374969363213, -0.0023975162766873837, -0.008649620227515697, -0.009639562107622623, -0.019687475636601448, -0.002648095367476344, -5.3364074119599536e-05, -0.007158519700169563, -0.0035761662293225527, -0.010635691694915295, -0.025144532322883606, -0.02598598413169384, -0.025392018258571625, -0.007498812396079302, 0.0014825931284576654, -0.0038700553122907877, 0.011866932734847069, 0.03393026813864708, -0.020046330988407135, 0.023276016116142273, 0.01815306581556797, -0.010926486924290657, 0.004822874907404184, 0.011396709829568863, 0.02818860486149788, 0.01697750948369503, -0.016767146065831184, 0.0019582295790314674, 0.008235082030296326, -0.003144613467156887, -0.013809693977236748, -0.0052621616050601006, -0.015752455219626427, 0.008086590096354485, 0.016160806640982628, 0.017027005553245544, 0.011013107374310493, 0.003381271380931139, -0.011854558251798153, 0.02300378307700157, 0.003941207658499479, -0.005379717331379652, 0.019489487633109093, -0.001178649952635169, 0.005695261526852846, -0.024649562314152718, -0.016284549608826637, 0.020702166482806206, 0.00721420394256711, -0.016259800642728806, -0.012572266161441803, 0.018214937299489975, -0.0046743834391236305, 0.0019133726600557566, -0.005528208799660206, 0.0007745524635538459, -0.008309327997267246, -0.02128375694155693, -0.0008731599664315581, -0.027891622856259346, 0.027965867891907692, -0.015962818637490273, -0.0005088921752758324, -0.002389782341197133, 0.0065088700503110886, -0.007808169350028038, -0.010140720754861832, -0.006867724005132914, -0.02087540738284588, -0.026802685111761093, 0.04115684702992439, -0.020429933443665504, -0.012448523193597794, 0.024463947862386703, 0.005302377976477146, -0.02009582705795765, 0.008105152286589146, -0.004894027020782232, -0.009917983785271645, -0.010883177630603313, -0.016259800642728806, 0.004665102809667587, -0.001519715995527804, 0.008699117228388786, 0.0034153007436543703, 0.01618555560708046, 0.018239686265587807, -0.015368852764368057, -0.007857666350901127, 0.003972143400460482, 0.0038081840611994267, 0.010691376402974129, 0.0005978323169983923, 0.0017896299250423908, -0.005890156142413616, 0.018115943297743797, 0.027124416083097458, 0.0021237353794276714, -0.015876198187470436, -0.0007293089875020087, 0.00028460839530453086, 0.00254755443893373, -0.04063712805509567, 0.0004002305504400283, -0.0045166113413870335, 0.0049682725220918655, -0.007956660352647305, 0.004349558614194393, -0.016284549608826637, 0.022929536178708076, 0.009212649427354336, -0.013351845555007458, 0.013822068460285664, 0.006295413710176945, 0.015294607728719711, 0.018487170338630676, -0.0031956571619957685, -0.0028136014007031918, 0.021358003839850426, 0.01397055946290493, 0.014849133789539337, 0.012374278157949448, -0.010252089239656925, 0.015950443223118782, -0.01892027072608471, 0.001051040249876678, 0.002151577500626445, -0.007709174882620573, 0.010920300148427486, -0.01738586090505123, 0.019761722534894943, -0.007944286800920963, -0.00056689657503739, -0.03600914776325226, 0.0030177771113812923, -0.008909479714930058, -0.051625486463308334, -0.005036331247538328, 0.0017416796181350946, 0.009249772876501083, -0.00978186633437872, 0.01522036176174879, -0.0011167785851284862, 0.012219599448144436, 0.017064129933714867, 0.01581432670354843, -0.0076039936393499374, 0.02648095414042473, -0.007115209940820932, -0.017583848908543587, -0.01591332070529461, 0.030589215457439423, 0.017286866903305054, 0.00867436919361353, -0.004946617409586906, -0.017064129933714867, 0.029153797775506973, -0.013054863549768925, -0.0266541950404644, -0.013426091521978378, -0.01174937654286623, 0.004012359771877527, -0.011458581313490868, -0.010542884469032288, -0.0064160628244280815, -0.004522798582911491, 0.012498020194470882, 0.019279124215245247, 0.0035050141159445047, -0.008785737678408623, -0.02009582705795765, -0.0038545874413102865, 0.01187930628657341, 0.012627950869500637, 0.0034183941315859556, 0.014576898887753487, -0.006855349987745285, -0.02012057602405548, 0.02885681577026844, -0.00590871786698699, 0.013054863549768925, 0.006289226934313774, 0.006818227004259825, 0.005583893042057753, 0.011972113512456417, 0.02415459044277668, 0.0021082675084471703, 0.045636337250471115, -0.0045444536954164505, -0.020071078091859818, 0.005586986429989338, 0.0034895462449640036, 0.003174002282321453, 0.012652698904275894, -0.014477904886007309, 0.0019968990236520767, 0.014279916882514954, -0.011112101376056671, 0.00022370374063029885, 0.007523560896515846, 0.010889364406466484, 0.030712958425283432, -0.009676685556769371, 0.009466322138905525, 0.015752455219626427, -0.017064129933714867, -0.02024431899189949, 0.007752485107630491, 0.025837492197752, -0.010041726753115654, 0.024884672835469246, -0.004649634938687086, 0.010307773016393185, -0.010666627436876297, -0.025886990129947662, 0.005979869980365038, -0.008365011774003506, 0.0071028354577720165, 0.0242659579962492, 0.01455215085297823, 0.004284593742340803, -0.004730067681521177, 0.0003393258957657963, -0.010351083241403103, 0.014849133789539337, 0.023177022114396095, 0.015245110727846622, -0.0031477068550884724, -0.019143007695674896, 0.0003066500648856163, -0.016482537612318993, -2.2911748601472937e-05, 0.013203354552388191, 0.010078849270939827, -0.022137582302093506, 0.01090792566537857, 0.019798845052719116, -0.021308505907654762, 0.01455215085297823, -0.00028190150624141097, -0.009435386396944523, -0.025033164769411087, -0.020553674548864365, -0.0024423731956630945, 0.0008507316233590245, -0.03056446649134159, 0.024117467924952507, 0.0018700627842918038, -0.0028986746910959482, 0.0029852944426238537, -0.024105092510581017, 0.003823651932179928, -0.015071870759129524, -0.020429933443665504, 0.006985279731452465, -0.006119080353528261, -0.03251960128545761, 0.013079611584544182, 0.007449315395206213, 0.005373530089855194, 0.0028630986344069242, -0.006985279731452465, 0.011446206830441952, 0.009181713685393333, 0.019031640142202377, -0.006595490034669638, -0.004306248854845762, -0.0006542899645864964, 0.034548982977867126, -0.006675922777503729, 0.020306190475821495, -0.02479805238544941, -0.037147581577301025, -0.010580007918179035, 0.01208348199725151, -0.020318564027547836, 0.01565346121788025, -0.0001320567389484495, 0.03744456544518471, 0.012368090450763702, 0.008717678487300873, -0.005549863446503878, -0.02260780520737171, 0.015863824635744095, -0.015096618793904781, 0.0228305421769619, 0.01567821018397808, -0.008451631292700768, 0.001802004175260663, -0.000970607390627265, -0.0029574523214250803, -0.029450781643390656, 0.0015900946455076337, -0.03093569539487362, 0.0036442247219383717, -0.0037741546984761953, 0.010307773016393185, -0.0072389524430036545, 0.010406767949461937, -0.024340204894542694, 0.006477934308350086, 0.0016411385731771588, 0.009132216684520245, 0.021852973848581314, -0.010196404531598091, -0.004795032553374767, -0.0037308447062969208, 0.023968975991010666, 0.0007644983706995845, -0.00834645051509142, 0.031529661267995834, 0.023523502051830292, 0.009701433591544628, 0.00738125666975975, -0.000662023841869086, 0.019242001697421074, 0.001914919470436871, -0.041206344962120056, -0.011254405602812767, -0.008983725681900978, 0.017150748521089554, -0.01604943908751011, 0.01182362250983715, 0.013364220038056374, 0.021358003839850426, -0.011866932734847069, -0.010016977787017822, 0.013624079525470734, -0.015071870759129524, -0.011458581313490868, 0.004627979826182127, 0.017076503485441208, -0.006669735535979271, 0.003764874069020152, -0.0550902858376503, 0.0008716132142581046, 0.007956660352647305, 0.015319355763494968, 0.0003687147982418537, 0.0030657274182885885, -0.019774096086621284, 0.0029528120066970587, 0.009336392395198345, 0.0016751678194850683, -0.00907034520059824, -0.002606332302093506, -0.012139166705310345, 0.014106676913797855, -0.011724628508090973, 0.0033503356389701366, -0.012380464933812618, 0.02169210836291313, -0.016222678124904633, 0.006502682808786631, -0.0163340475410223, -0.0004767963837366551, -0.016222678124904633, -0.01409430243074894, -0.005531302187591791, 0.04897738993167877, 0.005484898574650288, -0.025008415803313255, 0.002140750177204609, 0.011916429735720158, 0.04395343363285065, 0.015566841699182987, 0.02205096371471882, -0.005416840314865112, -0.019897839054465294, 0.005636483430862427, 0.012380464933812618, 0.002235103864222765, -0.006935782730579376, -0.009546754881739616, -0.011916429735720158, -0.00821652077138424, 0.000715387926902622, 0.0026341744232922792, 0.009639562107622623, -0.01161326002329588, -0.004550640471279621, -0.025367269292473793, -0.009460135363042355, -0.014898630790412426, 0.0024392795749008656, 0.002411437453702092, 0.003297745017334819, 0.030341729521751404, -0.01671764999628067, 0.004999208264052868, 0.010047913528978825, -0.013203354552388191, -0.026827434077858925, -0.014576898887753487, 0.03482121601700783, 0.008909479714930058, 0.0023526595905423164, 0.009293083101511002, -0.015690583735704422, 0.012603201903402805, -0.02075166441500187, 0.055288273841142654, -0.002012366894632578, 0.0034276749938726425, 0.003470984986051917, 0.007152332458645105, 0.0026140662375837564, -0.022224202752113342, 0.014774887822568417, 0.02087540738284588, 0.0017973638605326414, 0.014663519337773323, 0.009905609302222729, 0.018363427370786667, 0.016532035544514656, 0.0010108237620443106, -0.000479503272799775, -0.017818959429860115, -0.008705304004251957, -0.011242031119763851, -0.00932401791214943, 0.007845291867852211, 0.014935753308236599, 0.019501861184835434, -0.015764830633997917, -0.006979092489928007, -0.023548251017928123, -0.00649649603292346, -0.0010618676897138357, -0.02205096371471882, 0.01481201034039259, -0.011972113512456417, 0.008457818999886513, 0.006112893112003803, -0.011464768089354038, -0.005982963368296623, -0.026183972135186195, 0.0027842125855386257, 0.025515761226415634, -0.0031477068550884724, 0.006774917244911194, 0.01621030457317829, -0.012955868616700172, -0.013438466005027294, -0.018450047820806503, -0.0028166950214654207, 0.0032668092753738165, 0.010153095237910748, -0.01786845736205578, -0.03155440837144852, -0.015047121793031693, -0.01762097142636776, 0.021568365395069122, -0.018041696399450302, -0.011056417599320412, 0.027891622856259346, -0.01135958731174469, 0.013203354552388191, -0.009633375331759453, 0.03066346049308777, -0.002012366894632578, 0.0009033223032020032, 0.017818959429860115, 0.03093569539487362, 0.007851479575037956, 0.010270650498569012, -0.029178546741604805, 0.004952804651111364, -0.007133771199733019, 0.00934258010238409, -0.016631029546260834, -0.003458610735833645, 0.00593655975535512, 0.01945236511528492, -0.008544438518583775, 0.009088907390832901, 0.008569187484681606, -0.026134474202990532, 0.014205670915544033, -0.021073395386338234, 0.016012314707040787, -0.0022876947186887264, -0.000994582544080913, 0.01502237282693386, -0.020281441509723663, 0.017435356974601746, -0.022929536178708076, 0.020825909450650215, -0.007758672349154949, -0.024909421801567078, -0.014601647853851318, 0.00394739443436265, 0.0024330923333764076, -0.01984834112226963, 0.008457818999886513, 0.004677476827055216, -0.0041515701450407505, -0.003229686524719, -0.003048712620511651, -0.011006919667124748, 0.007040963973850012, -0.019625604152679443, -0.008921854197978973, 0.017559099942445755, -0.0038019968196749687, -0.005605547688901424, -0.022756297141313553, -0.011149223893880844, 0.011409084312617779, 0.0037153768353164196, 0.013314723037183285, -0.005546770058572292, -0.01856141723692417, 0.04494337737560272, 1.0422670129628386e-05, 0.001440056599676609, 0.007808169350028038, 0.02675318904221058, 0.022360319271683693, -0.015715332701802254, 0.004779564682394266, -0.00875480193644762, -0.006409876048564911, 0.0027300750371068716, 0.04004316404461861, -0.008173210546374321, -0.005457056686282158, -0.007783420849591494, -0.003126051975414157, 0.00783291831612587, 0.0012583093484863639, -0.01750960387289524, -0.0021237353794276714, -0.022112835198640823, -0.01864803582429886, 0.019897839054465294, -0.012033984996378422, 0.02937653474509716, 0.018907897174358368, -0.01051813643425703, -0.003174002282321453, -0.015975192189216614, -0.03081195242702961, -0.0032729965168982744, 0.010159282013773918, -0.0005378943751566112, -0.0025955047458410263, -0.006818227004259825, 0.002518165623769164, -0.027470896020531654, 0.007702988106757402, 0.006960531231015921, -0.008600123226642609, 0.01135958731174469, 0.01351271104067564, -0.005299284588545561, 0.007845291867852211, -0.034276749938726425, 0.005382810719311237, 0.011631821282207966, 0.002218089299276471, -0.009491071105003357, 0.0041577573865652084, -0.011582324281334877, -0.020083453506231308, 0.009509632363915443, -0.0066078645177185535, 0.0023232707753777504, 0.015232736244797707, 0.0024176244623959064, 0.022248951718211174, 0.01812831684947014, 0.01430466491729021, 0.007226578425616026, -0.026951177045702934, 0.008055655285716057, -0.004126821644604206, -0.008408321999013424, -0.008501129224896431, 0.015368852764368057, -0.0033596165012568235, 0.0027022329159080982, -0.0153441047295928, 0.015839075669646263, 0.011211095377802849, -0.001318634022027254, 0.02964876964688301, -0.011792686767876148, -0.010481012985110283, -0.018709907308220863, -0.013079611584544182, 0.006669735535979271, -0.0009737010113894939, -0.007282262668013573, 0.002493416890501976, -0.010153095237910748, 0.002343378961086273, -0.010406767949461937, -0.003297745017334819, 0.0018917176639661193, -0.0032142186537384987, -0.0034307686146348715, -0.0027207944076508284, 0.02208808623254299, -0.00796284805983305, 0.006208793725818396, 0.01552971825003624, 0.02374623902142048, 0.027347153052687645, 0.010963610373437405, -0.028757821768522263, 0.010289211757481098, -0.0009489524527452886, 0.008241268806159496, -0.01577720418572426, 0.00783291831612587, 0.001956682652235031, -0.014403658919036388, 0.012262909673154354, 0.011638008058071136, -0.011594698764383793, 0.01548022124916315, -0.0042165350168943405, 0.0016442321939393878, -0.022484062239527702, 0.00020475563360378146, -0.01812831684947014, -0.004188693128526211, 0.01894501969218254, -0.0067811040207743645, -0.018103567883372307, -0.007263700943440199, -0.0034895462449640036, 0.012262909673154354, 0.004358839243650436, 0.0228305421769619, 0.02494654431939125, -0.0161979291588068, 0.009812802076339722, 0.0004129915323574096, -0.004272219259291887, 0.014787262305617332, -0.02113526687026024, 0.006558367051184177, -0.008600123226642609, -0.02429070696234703, 0.008773363195359707, -0.00926833413541317, 0.014477904886007309, -0.004590856842696667, -0.0015962818870320916, 0.02101152390241623, 0.016420666128396988, 0.008358824998140335, -0.005914904642850161, -0.006725419778376818, -0.013054863549768925, -0.0024006098974496126, -0.00868674274533987, 0.033633287996053696, -0.0026341744232922792, 0.0349944569170475, 0.01775708794593811, -0.005231225863099098, 0.019811218604445457, 0.012182476930320263, -0.024055596441030502, -0.000534414139110595, -0.031232677400112152, -0.003625663463026285, -0.004717693198472261, -0.0006121400510892272, 0.0067811040207743645, -0.003693721955642104, -0.00036001414991915226, -0.009893234819173813, -0.012603201903402805, -0.006552180275321007, -0.01272075716406107, -0.020801160484552383, -0.01546784769743681, 0.00305180624127388, -0.01905638724565506, 0.007368882652372122, 0.017051754519343376, -0.010672814212739468, -0.009713808074593544, -0.01312910858541727, 0.001318634022027254, -0.011074978858232498, 0.01830155774950981, -0.006502682808786631, 0.009317831136286259, -0.003953581675887108, 0.023053279146552086, -0.008989912457764149, 0.0159256961196661, -0.0032204058952629566, -0.019229628145694733, -0.013401342555880547, -0.013215729035437107, 0.0054508694447577, -0.023597747087478638, -0.009441574104130268, 0.016383543610572815, -0.0019752441439777613, 0.024315455928444862, 0.028757821768522263, 0.011124475859105587, -0.000403710815589875, 0.004095885902643204, 0.01500999927520752, 0.016767146065831184, -0.021234260872006416, 0.012417587451636791, 0.02051655203104019, 0.020850658416748047, -0.0011569949565455317, -0.008760988712310791, 0.025763247162103653, -0.021729232743382454, -0.0017122906865552068, -0.040909361094236374, 0.012225786224007607, 0.010146907530725002, 0.005079641006886959, 0.005314752459526062, 0.008284579031169415, -0.0015390508342534304, 0.003161628032103181, -0.008340262807905674, 0.0037030025850981474, 0.010103598237037659, -0.004204160999506712, -0.0010943502420559525, 0.012231973931193352, -0.0020201008301228285, 0.016903262585401535, -0.007003841456025839, 0.005048705264925957, 0.02860932983458042, 0.01090792566537857, 0.009936545044183731, 0.006898659747093916, 0.01253514364361763, 0.002270679920911789, -0.036999091506004333, -0.03081195242702961, -0.008699117228388786, 0.0060850512236356735, 0.0033255871385335922, 0.011254405602812767, -0.011786499992012978, -0.03343529999256134, 0.020863031968474388, -0.0043155294843018055, 0.02739665098488331, -0.0021902471780776978, 0.012392839416861534, -0.02090015448629856, 0.0037184704560786486, 0.015047121793031693, 0.031678151339292526, -0.0006542899645864964, -0.011978301219642162, 0.009837551042437553, 0.01972459815442562, -0.007900976575911045, 0.019526610150933266, 0.002825975650921464, -0.0026109726168215275, -0.016791895031929016, 0.0207764133810997, -0.0012072655372321606, 0.014564525336027145, 0.004559921566396952, -0.009509632363915443, -0.017732340842485428, 0.0062706652097404, -0.0026821247301995754, 0.01918013021349907, 0.0072327652014791965, -0.043557457625865936, 0.007387443911284208, 0.0014052538899704814, -0.004395962227135897, 0.00521885184571147, -0.018982142210006714, 0.016928011551499367, -0.01057382021099329, -0.01722499541938305, 0.029673518612980843, 0.0022629459854215384, 0.006218074820935726, -0.0027656510937958956, -0.017521977424621582, -0.0074616894125938416, -0.02219945378601551, 0.002997668692842126, -0.021865349262952805, 0.012559891678392887, -0.027198662981390953, -0.009818989783525467, 0.005138418637216091, 0.016247427091002464, -0.005766413640230894, -0.0913221687078476, 0.0010046366369351745, -0.005314752459526062, -0.008204146288335323, -0.0064160628244280815, 0.0013101266231387854, 0.02362249605357647, -0.019687475636601448, -0.009924170561134815, -0.011204908601939678, 0.003996891900897026, 0.002218089299276471, 0.006855349987745285, -0.013450839556753635, -0.00796284805983305, -0.013289974071085453, -0.008643433451652527, 0.010227340273559093, 0.01999683305621147, 0.02922804467380047, 0.009243585169315338, 0.0306882094591856, -0.011136850342154503, 0.0006972132250666618, -0.010066474787890911, 0.008179397322237492, -0.012696009129285812, 0.018833650276064873, 0.004457833711057901, -0.017707591876387596, -0.008723866194486618, -0.01789320632815361, 0.010270650498569012, -0.018252059817314148, 0.016618655994534492, 0.006094331853091717, 0.021234260872006416, -0.029030056670308113, 0.012108230963349342, 0.015839075669646263, 0.0006743981502950191, -0.008971351198852062, -0.0031214116606861353, 0.011941177770495415, 0.00522503862157464, -0.004296967759728432, -0.003693721955642104, 0.012058733962476254, 0.010876989923417568, -0.025416767224669456, -0.007566870655864477, 0.014391285367310047, -0.004293874371796846, 5.602261080639437e-05, 0.021184762939810753, -0.015418349765241146, -0.01207110844552517, 0.02831234782934189, -0.022867664694786072, 0.0018963580951094627, -0.0010494934394955635, -0.008983725681900978, -0.0024207180831581354, -0.0157895777374506, -0.016420666128396988, -0.023412134498357773, 0.006128360982984304, -0.023795736953616142, -0.007585432380437851, 0.014156173914670944, -0.012040172703564167, 0.03860774636268616, -0.004346465226262808, -0.028931060805916786, -0.0036380377132445574, -0.02453819289803505, -0.012881623581051826, 0.012380464933812618, 0.00027571438113227487, 0.01187311951071024, -0.008402134291827679, 0.012566079385578632, 0.011019294150173664, -0.007368882652372122, 0.009051783941686153, -0.026827434077858925, 0.01644541509449482, -0.01983596757054329, -0.004256751388311386, 0.012399026192724705, 0.003048712620511651, -0.01750960387289524, -0.00032308464869856834, -0.006576928775757551, 0.000679811870213598, -0.008730052970349789, -0.01207729522138834, -0.002528992947191, 0.005685980431735516, 0.012955868616700172, -0.00437740096822381, -0.045116618275642395, 0.008117525838315487, -0.007059525698423386, -0.011242031119763851, -0.002044849330559373, 0.012194850482046604, -0.000629541405942291, 0.006855349987745285, -0.024476321414113045, -0.0009497257997281849, 0.00662642577663064, -0.0045815762132406235, 0.023201771080493927, -0.015331730246543884, -0.01630929857492447, 0.0013518898049369454, 0.016408292576670647, 0.015282233245670795, -0.0028507241513580084, 0.004962085280567408, 0.01577720418572426, 0.014205670915544033, 0.005138418637216091, 0.005407559219747782, -0.0012969790259376168, 0.008600123226642609, -0.007183268200606108, -0.02021957002580166, -0.0006697577773593366, 0.00734413368627429, 0.030490221455693245, -0.009837551042437553, -0.01998445950448513, 0.004578482825309038, -0.00867436919361353, -0.015368852764368057, 0.016259800642728806, 0.019143007695674896, -0.0057911621406674385, -0.0005808176938444376, -0.02900530770421028, -0.017336362972855568, -0.0050332373939454556, 0.01930387318134308, -0.0412805899977684, 0.020838283002376556, 0.005846846383064985, -0.010963610373437405, -0.0060200863517820835, -0.029723014682531357, 0.0005456283106468618, 0.013351845555007458, -0.010245902463793755, -0.019019264727830887, -0.030465472489595413, 0.006465560290962458, -0.01265888661146164, -0.009967480786144733, 0.00860631000250578, -0.0034153007436543703, 0.009132216684520245, -0.018177814781665802, 0.022508811205625534, -0.023535875603556633, 0.009583878330886364, 0.005738571286201477, -0.00855681300163269, -0.03358379006385803, -0.002603238681331277, -0.021729232743382454, 0.01698988303542137, -0.009373515844345093, 0.014205670915544033, 0.03573691472411156, 0.0002064957661787048, -0.02729765698313713, -0.005868501029908657, 0.0036318504717200994, 0.015356479212641716, 0.001831393106840551, -0.007424566894769669, -0.014329413883388042, 0.004764096811413765, -0.0018453141674399376, 0.0036658798344433308, -0.0037030025850981474, 0.020132949575781822, -0.0005429214215837419, 0.005305471830070019, 0.005299284588545561, 0.004371213726699352, 0.00900847464799881, -0.014675893820822239, -0.0021237353794276714, 0.009423012845218182, 0.016655778512358665, 0.002080425387248397, -0.006867724005132914, -0.00381746469065547, 0.012157727964222431, -0.015381227247416973, -0.017942702397704124, -0.009559129364788532, -0.01514611579477787, -0.02208808623254299, -0.0064160628244280815, -0.011891680769622326, 0.010617130436003208, 0.012194850482046604, -0.015047121793031693, 0.01560396421700716, -0.004566108342260122, -0.0169527605175972, 0.009027035906910896, 0.02625821717083454, -0.02091252990067005, 0.014490279369056225, 0.005930372513830662, 0.0005502686835825443, -0.0035545113496482372, -7.023369107628241e-05, 0.024971293285489082, 0.01404480542987585, 0.0046805706806480885, -0.026010731235146523, 0.028782570734620094, 0.020689792931079865, -0.00410826038569212, 0.017559099942445755, 0.005290003959089518, 0.027767879888415337, -0.008655807003378868, -0.012572266161441803, -0.00028982877847738564, -0.02113526687026024, 0.0007281489088200033, 0.0022490250412374735, -0.012287657707929611, -0.00939207710325718, 0.0088847316801548, -0.04083511605858803, 0.006106706336140633, -0.008445444516837597, 0.022867664694786072, -0.0003188310074619949, 0.026183972135186195, -0.013426091521978378, 0.01317860558629036, -0.01864803582429886, 0.028411341831088066, -0.013896314427256584, -0.020293815061450005, 0.000792727165389806, 0.009515820071101189, -0.003594727721065283, -0.005673606414347887, 0.01500999927520752, 0.0030858356039971113, -0.008841421455144882, 0.011093540117144585, 0.0041794124990701675, -0.0028306159656494856, 0.014614022336900234, 0.002739355666562915, -0.008909479714930058, 0.02650570310652256, -0.042617011815309525, -0.023572999984025955, 0.01526985876262188, -0.012652698904275894, -0.024736180901527405, 0.014267542399466038, 0.013685951009392738, -0.0070100282318890095, -0.0004180185787845403, 0.021494120359420776, -0.02076403796672821, 0.0060510216280817986, -0.022768670693039894, -0.010617130436003208, 0.016482537612318993, -0.004795032553374767, 0.029698267579078674, -0.00016289576888084412, 0.028040112927556038, -0.014465530402958393, -0.005942746996879578, -0.0031214116606861353, -0.037939537316560745, -0.0021221886854618788, 0.00842688325792551, -0.01384681649506092, 0.024859923869371414, -0.01161326002329588, -0.005775694269686937, -0.00331321288831532, -0.00280896108597517, 0.023424508050084114, -0.018437674269080162, 0.007554496638476849, 0.01468826737254858, -0.008501129224896431, 0.0016612467588856816, 0.008086590096354485, 0.013735448010265827, 0.0021330162417143583, -0.01208348199725151, 0.01265888661146164, -0.015294607728719711, 0.024897046387195587, 0.009800427593290806, -0.012423775158822536, 0.0013487963005900383, 0.020182447507977486, 0.0011245125206187367, -0.028906313702464104, 0.01867278479039669, -0.030638711526989937, -0.0007354961126111448, -0.0061221737414598465, -0.0074616894125938416, 0.001802004175260663, -0.008723866194486618, -0.025008415803313255, 0.00025811968953348696, -0.0176333449780941, -0.0021948874928057194, -0.007294636685401201, 0.009311644360423088, -0.007071899715811014, 0.01481201034039259, -0.020405184477567673, -0.01552971825003624, 0.0005131458165124059, 0.014997624792158604, 0.0002956292300950736, -0.02101152390241623, -0.004553734324872494, -0.008074216544628143, 0.012126792222261429, 0.0037339383270591497, 0.016655778512358665, -0.015702959150075912, 0.01220103818923235, 0.008655807003378868, -0.0032575286459177732, -0.028287598863244057, 0.002021647524088621, -0.008488754741847515, 0.007443128153681755, 0.01181743573397398, -0.059198543429374695, -0.0026264404878020287, 0.013289974071085453, 0.013413717038929462, 0.004068044014275074, 0.027842124924063683, 0.0037865289486944675, 0.0006875458057038486, -0.002303162356838584, 0.0020943465642631054, 0.008191771805286407, -0.013438466005027294, 0.016507286578416824, 0.0027563704643398523, 0.017323989421129227, -0.003851494053378701, 0.007226578425616026, 0.022545933723449707, -0.0034214877523481846, -0.0688999816775322, 0.003022417426109314, -0.003755593206733465, -0.004949711263179779, -0.01998445950448513, 0.005410653073340654, 0.018623288720846176, -0.005624109413474798, -0.02756989188492298, 0.007028589956462383, 0.009571503847837448, 0.03539043292403221, -0.002321723848581314, 0.0019272937206551433, -0.005376623943448067, -0.00014046738215256482, -0.005116763990372419, -0.014911004342138767, -0.013611705973744392, 0.003464797744527459, -0.022026214748620987, -0.0004628753231372684, -0.003681347705423832, -0.022954285144805908, 0.02166736125946045, -0.010029352270066738, 0.019093509763479233, -0.022137582302093506, 0.017163123935461044, -0.004482582211494446, -0.007591619621962309, -0.0323958583176136, 0.0014648051001131535, 0.02051655203104019, 0.007282262668013573, -0.01931624859571457, -0.014576898887753487, 0.016358794644474983, 0.00033352544414810836, -0.016915637999773026, -0.009478696621954441, 0.00024690551799722016, -0.0037215640768408775, 0.006774917244911194, 0.014317039400339127, -0.002354206284508109, 0.007529748138040304, -0.011006919667124748, -0.01312910858541727, 0.0051322318613529205, 0.012126792222261429, 0.010802744887769222, 0.00558079918846488, -0.013265226036310196, -0.0242659579962492, 0.011638008058071136, 0.010617130436003208, 0.02766888588666916, -0.00430315500125289, 0.024587690830230713, -0.004383587744086981, -0.02088778093457222, -0.051229510456323624, 0.017917953431606293, -0.01760859787464142, 0.009478696621954441, -0.003126051975414157, -0.01526985876262188, -0.01958848163485527, -0.01842529885470867, 0.022941911593079567, 0.005178635474294424, -0.0008863076218403876, -0.00984992552548647, -0.014675893820822239, -0.025837492197752, -0.005475617945194244, 0.0055622379295527935, -0.004006172530353069, -2.6851215807255358e-05, -0.004556827712804079, 0.01712600141763687, 0.003628757083788514, -0.00926833413541317, -0.003307025646790862, 0.011341026052832603, -0.00998604204505682, -0.017856083810329437, -0.01526985876262188, -4.226468263368588e-06, -0.0026016919873654842, 0.019415242597460747, -0.0027857592795044184, -0.006632613018155098, -0.028881564736366272, 0.014119051396846771, 0.03177714720368385, -0.013525085523724556, -0.012856874614953995, 0.0031306922901421785, -0.016086561605334282, -0.0017494135536253452, -0.012955868616700172, -0.0009427652694284916, 0.00881048571318388, -0.0049033076502382755, 0.0016132964519783854, -0.0005340274074114859, -0.019934961572289467, 0.003851494053378701, -0.0027207944076508284, 0.017299240455031395, 0.014106676913797855, 0.0013696778332814574, -0.007399817928671837, -0.0007911804132163525, -0.008383573032915592, 0.022484062239527702, -0.012566079385578632, 0.02101152390241623, 0.013426091521978378, 0.008983725681900978, -0.017447732388973236, -0.000534414139110595, 0.015702959150075912, 0.010796557180583477, -0.012361903674900532, 0.0006380486884154379, -0.01481201034039259, -0.008179397322237492, -0.004782658535987139, -0.02009582705795765, 0.01181743573397398, 0.014081927947700024, 0.03108418546617031, -0.025367269292473793, -0.00717708095908165, 0.003520481986925006, -0.003319400129839778, 0.009286895394325256, -0.015542092733085155, 0.020182447507977486, 0.007282262668013573, -0.0030440723057836294, -0.004040201660245657, -0.03489546477794647, -0.008903292939066887, -0.013388969004154205, 0.010208779014647007, 0.004776471294462681, 0.003628757083788514, 0.01567821018397808, 0.013450839556753635, 0.01161326002329588, -0.013413717038929462, -0.02453819289803505, 0.016928011551499367, 0.02739665098488331, 0.012708383612334728, -0.00548799242824316, 0.026555201038718224, 0.011279154568910599, 0.009750930592417717, -0.02234794571995735, -0.06018848717212677, 0.01228147093206644, -0.031405918300151825, 0.001692182500846684, -0.018450047820806503, -0.015443098731338978, 0.0384097583591938, 0.003167815040796995, -0.013933436945080757, -0.021048646420240402, 0.03341054916381836, 0.0033472422510385513, -0.014651144854724407, -0.009794240817427635, 0.013883939944207668, -0.020145324990153313, -0.0002445853315293789, -0.0075978063978254795, 0.023325514048337936, -0.02153124287724495, -0.009645749814808369, 0.006886285729706287, -0.027099668979644775, 0.0159256961196661, 0.007900976575911045, 0.027767879888415337, -0.01998445950448513, -0.03353429213166237, 0.025392018258571625, 0.0002766811230685562, -0.009676685556769371, -0.011297715827822685, -0.0009814349468797445, -0.011638008058071136, -0.0467500202357769, 0.004730067681521177, -0.004900213796645403, -0.0016086561372503638, 0.0008089684415608644, -0.0018994515994563699, 0.020702166482806206, 0.032049380242824554, -0.022892413660883904, -0.006521244533360004, -0.01723736897110939, -0.01658153161406517, 0.01711362600326538, -0.029846757650375366, 0.009874673560261726, 0.0008298500324599445, -0.01800457388162613, 0.0021268290001899004, 0.0007397498120553792, 0.008538251742720604, 0.050338562577962875, 0.002496510511264205, -0.005054892506450415, 0.004272219259291887, -0.007919537834823132, -0.01044389046728611, -0.010307773016393185, -0.0034864528570324183, 0.0013882393250241876, -0.023028530180454254, -0.01207729522138834, -0.009621000848710537, 0.015257484279572964, 0.0002063024148810655, 0.015999941155314445, -0.013228102587163448, 0.023981349542737007, 0.004321716725826263, 0.01565346121788025, 0.005586986429989338, 0.013685951009392738, 9.000353747978806e-05, 0.011650382541120052, -0.024117467924952507, -0.0036875347141176462, -0.013723074458539486, 0.028139106929302216, -0.0024856829550117254, -0.020071078091859818, -0.005184822250157595, -0.007814356125891209, -0.013314723037183285, -0.01738586090505123, 0.005113670136779547, 0.012108230963349342, 0.0017741620540618896, -0.0035483241081237793, 0.0014470170717686415, 0.015306981280446053, 0.012386651709675789, 0.018363427370786667, -0.010499575175344944, -0.007170894183218479, -0.012244347482919693, -0.016519660130143166, -0.010047913528978825, -0.0071090226992964745, 0.009627188555896282, 0.011446206830441952, -0.00926833413541317, -0.0024547474458813667, 0.01710125245153904, -0.013673576526343822, -0.0015777203952893615, -0.024612437933683395, -0.01416854839771986, -0.004665102809667587, -0.0042876871302723885, -0.01868516020476818, -0.013871565461158752, -0.01868516020476818, -0.01514611579477787, -0.020009206607937813, 0.007758672349154949, 0.015108993276953697, -0.00228614779189229, -0.02883206680417061, 0.022273700684309006, 0.00796903483569622, 0.0004856903979089111, -0.03667736053466797, 0.00012287270510569215, -8.386473200516775e-05, 0.002764104399830103, -0.010097410529851913, -0.022682052105665207, 0.007622555363923311, -0.002632627496495843, -0.018883148208260536, 0.013426091521978378, -0.01762097142636776, 0.0012629497796297073, 0.010177843272686005, -0.0047393483109772205, -0.011996862478554249, -0.009280708618462086, -0.0019427615916356444, -0.011668943800032139, 0.0010850694961845875, 0.021642612293362617, 0.008717678487300873, -0.0038793361745774746, -0.006774917244911194, -0.013933436945080757, 0.0159256961196661, -0.0048754652962088585, 0.018190188333392143, 0.00763492938131094, 0.0025924111250787973, -0.0033750843722373247, 0.008958976715803146, -0.02573849819600582, 0.00047718308633193374, -0.006078863982111216, -0.0022660396061837673, 0.015517344698309898, 0.005942746996879578, 0.017398234456777573, 0.009237398393452168, 0.002341832034289837, 0.010555258952081203, 0.001030158600769937, 0.012046359479427338, 0.010969797149300575, 0.023572999984025955, -0.0013163137482479215, 0.003913365304470062, -0.009200275875627995, 0.007294636685401201, -0.0042227222584187984, -0.009917983785271645, 0.025812743231654167, 0.010171656496822834, 0.004850716795772314, -0.0014802729710936546, -0.0006875458057038486, -0.0029141423292458057, -0.008340262807905674, -0.002009273273870349, 0.013958184979856014, 0.008173210546374321, 0.01815306581556797, -0.01906876266002655, -0.025119783356785774, -0.009633375331759453, -0.024872299283742905, -0.009590065106749535, -0.0021577647421509027, 0.03942444920539856, 0.00649649603292346, -0.008043280802667141, -0.01195355225354433, 0.021382752805948257, 0.0007730056531727314, -0.00029582256684079766, -0.005586986429989338, -0.0199597105383873, 0.04949711263179779, 0.0010525870602577925, -0.00881048571318388, 0.00822889432311058, -0.013661202974617481, -0.005639577284455299, -0.04202304780483246, -0.015096618793904781, 0.01801694929599762, -0.011223469860851765, -0.05637720972299576, 0.001104404334910214, 0.0060912384651601315, 0.000955912983044982, -0.029822008684277534, 0.030836699530482292, 0.01827680878341198, -0.01749722845852375, -0.03618238866329193, -0.009614814072847366, 0.018635662272572517, 0.02638196013867855, 0.003235873766243458, 0.008748614229261875, 0.02910430170595646, -0.009156965650618076, -0.00783291831612587, -0.014341788366436958, -0.0018700627842918038, 0.021852973848581314, -0.017992200329899788, 0.01827680878341198, 0.012448523193597794, -0.012578453868627548, -0.0026991392951458693, -0.005308565218001604, -0.000623354222625494, -0.004878559149801731, 0.007146145217120647, 0.007195642683655024, -0.02754514291882515, 0.03999366611242294, 0.010054100304841995, 0.005101296119391918, -0.005639577284455299, -0.015727706253528595, 0.006199513096362352, 0.01397055946290493, -0.011860745027661324, 0.013599331490695477, 0.0207764133810997, 0.008785737678408623, -0.016395919024944305, -0.01560396421700716, -0.0007204149733297527, -0.0032173122745007277, 0.008631058968603611, 0.004671290051192045, -0.009695246815681458, -0.002151577500626445, 0.018499545753002167, 0.016136057674884796, -0.0051043895073235035, 0.008977538906037807, 0.003628757083788514, 0.012374278157949448, -0.014911004342138767, -0.002671297173947096, 0.006326349452137947, 0.019910212606191635, 0.018338680267333984, -0.018747031688690186, 0.033509545028209686, 0.0010827493388205767, 0.002918782876804471, -0.02885681577026844, 0.0025877708103507757, -0.012442336417734623, 0.005506553687155247, 0.008779549971222878, -0.0020371153950691223, 0.01724974252283573, -0.009107468649744987, 0.03279183804988861, -0.005948934238404036, 0.0031894701533019543, 0.017163123935461044, 0.026456205174326897, 0.012931120581924915, -0.0020618641283363104, -0.020442306995391846, -0.0007022402714937925, 0.009237398393452168, -0.02073928900063038, 0.003938113804906607, -0.09043122082948685, -0.009169340133666992, -0.03341054916381836, 0.016136057674884796, -0.023189397528767586, -0.003885523183271289, 0.010066474787890911, 0.0013619438977912068, -0.0011028575245290995, 0.012708383612334728, 0.007399817928671837, -0.007733923848718405, 0.037172332406044006, -0.015591589733958244, 0.0002397516363998875, -0.031381167471408844, -0.008321701548993587, -0.022112835198640823, 0.030391225591301918, -0.011996862478554249, 0.02349875308573246, 0.011972113512456417, -0.013487963005900383, -0.0008677462465129793, 0.006208793725818396, 0.007740110624581575, 0.004513517953455448, 0.001950495527125895, -0.007115209940820932, -0.0029883880633860826, -0.00541374646127224, 0.0038638683035969734, 0.01253514364361763, 0.017076503485441208, 0.01774471439421177, -0.03247010335326195, 0.01514611579477787, -0.002793493214994669, -0.0010618676897138357, -0.010146907530725002, -0.020825909450650215, 0.014279916882514954, -0.013351845555007458, -0.0203680619597435, 0.012844500131905079, -0.02571374922990799, -0.01580195315182209, -0.000662023841869086, 0.0017772556748241186, 0.0161979291588068, -0.0020556768868118525, -0.017843708395957947, 0.0009651936707086861, 0.03133167326450348, 0.03420250490307808, -0.00658930279314518, 0.006298507563769817, 0.004188693128526211, 0.0169527605175972, -0.00927452091127634, 0.005364249460399151, 0.0012815111549571157, -0.001982978079468012, 0.0062706652097404, 0.004142289515584707, -0.01908113621175289, 0.013463214039802551, 0.0002258305758005008, 0.004383587744086981, 0.013364220038056374, -0.0006581568741239607, -0.000988395418971777, -0.006954343989491463, 0.0057633197866380215, -0.004906401038169861, 0.0038700553122907877, 0.013685951009392738, -0.009126029908657074, 0.014242793433368206, 1.8561417164164595e-05, 0.010883177630603313, -0.016111310571432114, 0.005221945233643055, -0.02687693201005459, -0.013859190978109837, -0.041998300701379776, 0.0099117960780859, -0.03771679848432541, -0.00597368273884058, 0.01044389046728611, -0.005494179204106331, -0.006700671277940273, 0.007715362124145031, -0.006477934308350086, 0.01383444294333458, 0.006966718472540379, 0.006032460369169712, -0.006669735535979271, -0.018437674269080162, -0.0018979049054905772, -0.008946603164076805, -0.011074978858232498, -1.3341018529899884e-05, 0.010425329208374023, -0.008631058968603611, -0.010283024981617928, 0.010846054181456566, 0.010351083241403103, 0.006706858519464731, -0.011310090310871601, 0.0020726914517581463, -0.020442306995391846, -0.027594638988375664, 0.0005823644460178912, 0.0013441559858620167, -0.0035019207280129194, -0.001136886770837009, 0.007975221611559391, 0.036751605570316315, 0.019217252731323242, 0.0169527605175972, 0.007616368122398853, -0.009002286940813065, -0.014675893820822239, -0.0004226589226163924, -0.010029352270066738, 0.014614022336900234, -0.006348004564642906, -0.0007397498120553792, 0.001814378541894257, -0.02662944607436657, 0.014440782368183136, 0.010252089239656925, -0.00973236933350563, 0.013624079525470734, -0.0025460077449679375, 0.002148483879864216, 0.005933466367423534, 0.0012304672272875905, -0.006341817323118448, -0.02363487146794796, 0.017422983422875404, -0.011130662634968758, 0.035316187888383865, -0.007424566894769669, 0.00337817776016891, -0.006527431774884462, 0.015492595732212067, -0.007016215473413467, 0.010357270948588848, -0.005410653073340654, -0.028015365824103355, 0.015504970215260983, 0.0011523546418175101, 0.006490308791399002, -0.009942731820046902, -0.0018963580951094627, -0.024117467924952507, 0.00867436919361353, 0.005138418637216091, -0.0026310808025300503, -0.00751118641346693, -0.012856874614953995, 0.026926428079605103, -0.001650419319048524, 0.006341817323118448, 0.007987596094608307, 0.00024265184765681624, -0.024847550317645073, 0.01814069040119648, -0.013772571459412575, 0.016235051676630974, 0.00430315500125289, -0.012213412672281265, -0.011044043116271496, 0.0047455355525016785, 0.006849162746220827, -0.019786469638347626, -0.012392839416861534, 0.017064129933714867, 0.003613289212808013, -0.008464005775749683, -0.005800442770123482, -0.009466322138905525, -0.011396709829568863, 0.016160806640982628, 0.019118258729577065, 0.01514611579477787, -0.0013518898049369454, 0.019922588020563126, -0.013549834489822388, 0.0013070331187918782, -0.0008855342748574913, 0.01317860558629036, 0.011087353341281414, -0.010016977787017822, 0.015084244310855865, -0.019242001697421074, 0.010295399464666843, 0.016358794644474983, -0.02076403796672821, -0.007554496638476849, 0.01064806617796421, 0.006657361518591642, -0.005574611946940422, 0.03155440837144852, -0.004188693128526211, -0.006177857983857393, -0.0066511742770671844, 0.0061500160954892635, -0.010047913528978825, -0.006694484502077103, 0.0177694633603096, -0.003767967689782381, 0.012578453868627548, 0.04034014418721199, 0.0059272791258990765, 0.01775708794593811, 0.018771778792142868, 0.0032049380242824554, 0.004671290051192045, 0.009045597165822983, -0.012349529191851616, 0.01943998970091343, -0.0034833592362701893, -0.009546754881739616, -0.007201829459518194, -0.006273759063333273, 0.010400580242276192, -0.023350263014435768, 0.009800427593290806, 0.006750168744474649, 0.010790370404720306, 0.004102073144167662, 0.007053338456898928, -0.008798111230134964, -0.017262117937207222, 0.023016156628727913, -0.006768730003386736, -0.014774887822568417, 0.02181585133075714, 0.02766888588666916, -0.013450839556753635, 0.012553704902529716, -0.012213412672281265, 0.01789320632815361, -0.0061221737414598465, 0.003105943789705634, 0.0019164662808179855, -0.005194103345274925, 0.010802744887769222, 0.005769507028162479, 0.04726974293589592, -0.011000732891261578, 0.008259830065071583, -0.01325285155326128, 0.005057985894382, -0.011409084312617779, 0.00028924873913638294, 0.0010425328509882092, -0.01684139296412468, -0.0004180185787845403, 0.015999941155314445, 0.011050229892134666, 0.022026214748620987, -0.004129915032535791, 0.0013588503934442997, -0.02534252032637596, 0.01241140067577362, -0.005933466367423534, 0.01116159837692976, 0.00029427578556351364, 0.02453819289803505, 0.010245902463793755, 0.007115209940820932, -0.01363645400851965, 0.02430308237671852, -0.01220722496509552, -0.009231211617588997, 0.003310119267553091, -0.012832125648856163, -0.0017153843073174357, -0.011631821282207966, -0.01643304154276848, -0.015962818637490273, 0.014750138856470585, 0.026134474202990532, 0.024253584444522858, -0.007492625154554844, -0.016284549608826637, 0.009658124297857285, 0.007059525698423386, -0.03435099497437477, -0.00855062622576952, 0.02466193586587906, 0.021989092230796814, 0.003090475918725133, 0.01207110844552517, 0.0004605551657732576, -0.0037958098109811544, -0.01593806967139244, 0.0027671977877616882, 0.031529661267995834, -0.015381227247416973, -0.007220391184091568, -0.004262938629835844, -0.0011453940533101559, 0.01603706367313862, -0.0007795795099809766, -0.025008415803313255, -0.006675922777503729, -0.018969768658280373, 0.01416854839771986, -0.008129900321364403, 0.009818989783525467, -0.02687693201005459, -0.002431545639410615, 0.030886197462677956, 0.03474697098135948, -0.010852241888642311, -0.047343987971544266, -0.03333630412817001, 0.015628712251782417, 0.010505761951208115, -0.011316277086734772, -0.011353399604558945, 0.00919408816844225, 0.032569099217653275, -0.02846083976328373, -0.022545933723449707, 0.022682052105665207, 0.011013107374310493, 0.0002012753684539348, -0.014341788366436958, -0.019402867183089256, 0.0055684251710772514, -0.0016318579437211156, -0.008983725681900978, 0.015108993276953697, -0.009132216684520245, -0.020132949575781822, -0.011000732891261578, -0.0019133726600557566, 0.028015365824103355, -0.007554496638476849, 0.04996733367443085, -0.014007682912051678, -0.02258305624127388, -0.012584640644490719, 0.007393631152808666, -0.021456997841596603, -0.02179110236465931, -0.007282262668013573, 0.010641878470778465, 0.013685951009392738, 1.366729338769801e-05, -0.0060664894990623, -0.001846860977821052, 0.002253665355965495, -0.009416825138032436, 0.004321716725826263, -0.019118258729577065, 0.004603231325745583, 0.00029872279264964163, -0.004699131939560175, -0.02937653474509716, -0.004618699196726084, 0.006459373049438, -0.01734873838722706, 0.004782658535987139, 0.02441444993019104, -0.00541374646127224, 0.014193296432495117, -0.012615576386451721, -0.007406005170196295, -0.00048762388178147376, 0.008798111230134964, -0.0013526632683351636, -0.011310090310871601, -0.006564554292708635, -0.005883968900889158, -0.002511978382244706, 0.00875480193644762, 0.017163123935461044, 0.014453156851232052, 0.014119051396846771, -0.014453156851232052, 0.019910212606191635, -0.0321236252784729, -0.003102850168943405, -0.016259800642728806, -0.0111059146001935, 0.009491071105003357, -0.018957393243908882, 0.00394739443436265, -0.017670469358563423, 0.007863853126764297, -0.004154663998633623, -0.011656569316983223, 0.002929610200226307, -0.0074616894125938416, 0.003119864733889699, 0.01577720418572426, 0.013611705973744392, -0.021716857329010963, -0.039374951273202896, -0.008692930452525616, 0.003975236788392067, 0.013537460006773472, -0.006904846988618374, -0.0041794124990701675, -0.024872299283742905, 0.015282233245670795, 0.0010085036046802998, -0.00346170412376523, -0.012293845415115356, 0.007845291867852211, 0.006632613018155098, -0.007164706941694021, 0.022620180621743202, -0.029475530609488487, -0.08345212787389755, -0.011440020054578781, 0.006428437307476997, 0.0019489487167447805, 0.016160806640982628, 0.01228147093206644, -0.005890156142413616, -0.006855349987745285, -0.024117467924952507, 0.01788083091378212, -0.022397443652153015, 0.015888573601841927, -0.009020848199725151, -0.009404451586306095, -0.026307715103030205, -0.00783910509198904, -0.008928041905164719, 0.0020943465642631054, 0.0011662757024168968, 0.005911811254918575, 0.004488769453018904, 0.005611734930425882, 0.028040112927556038, 0.008272204548120499, -0.04063712805509567, -0.010895551182329655, 0.014007682912051678, -0.010951235890388489, -0.021444624289870262, 0.02417933940887451, 0.005685980431735516, 0.0026805780362337828, -0.006935782730579376, -0.013116734102368355, -0.025664251297712326, 0.009045597165822983, 0.0068800984881818295, 0.006184045225381851, -0.015282233245670795, 0.004188693128526211, -0.001246708445250988, 0.02754514291882515, 0.054001349955797195, 0.0052683488465845585, 0.01018403097987175, 0.005150793120265007, 0.009800427593290806, 0.01580195315182209, -0.0020881593227386475, 0.0037030025850981474, -0.0023371917195618153, 0.019118258729577065, -0.01580195315182209, 0.012708383612334728, -0.024315455928444862, 0.00855681300163269, -0.00528381671756506, -0.010982171632349491, 0.020467055961489677, -0.01279500313103199, 0.004071137402206659, 0.004819781053811312, -0.01670527458190918, 0.0010982172098010778, -0.0006171670975163579, 0.009664311073720455, -0.030712958425283432, -0.007121396716684103, -0.013549834489822388, -0.0020912529435008764, 0.029277540743350983, 0.009534381330013275, 0.027520393952727318, 0.007573057897388935, 0.018041696399450302, -0.014576898887753487, 0.010419141501188278, 0.007226578425616026, -0.024377327412366867, -0.0064222500659525394, -0.011934990994632244, -0.0063789403066039085, 0.003684441326186061, -0.009880861267447472, 0.005234319716691971, 0.03353429213166237, -0.03378177806735039, -0.0173611119389534, -0.011186347343027592, -0.018363427370786667, 0.008247456513345242, -0.012572266161441803, 0.016222678124904633, 0.008847608231008053, -0.021370377391576767, 0.001701463246718049, 0.011433832347393036, -0.003767967689782381, -0.0030858356039971113, -0.016247427091002464, 0.01827680878341198, -0.00521885184571147, -0.007412192411720753, 0.0074678766541182995, -0.01090792566537857, 0.00020552902424242347, -0.0014895537169650197, -0.012027798220515251, 0.023671993985772133, 0.011192534118890762, -0.002774931723251939, -0.001285378122702241, -0.003672066843137145, 0.025540510192513466, 0.00034628642606548965, -0.007436940912157297, -0.010462451726198196, 0.0341777540743351, 0.017187871038913727, -0.0029342505149543285, 0.002570756245404482, 0.020132949575781822, 0.0002351112780161202, -0.010153095237910748, 0.004068044014275074, -0.061821892857551575, 0.02388235554099083, 0.012095856480300426, -0.008241268806159496, 0.014589273370802402, -0.0022846010979264975, -0.007158519700169563, -0.008012345060706139, 0.0306882094591856, 0.007480251137167215, -0.025107409805059433, 0.01958848163485527, -0.0007316292030736804, -0.0016009222017601132, -0.03195038437843323, -0.007870040833950043, -0.00495589803904295, 0.020702166482806206, -0.006360378582030535, 0.0027115135453641415, 0.029995249584317207, 0.014106676913797855, 0.026926428079605103, -0.029450781643390656, -0.007208016701042652, 0.01864803582429886, -0.0017865363042801619, 0.015418349765241146, -0.018870772793889046, -0.006060302723199129, -0.013450839556753635, 0.003535949857905507, -0.011186347343027592, -0.00047718308633193374, -0.01378494594246149, 0.013203354552388191, 0.03576166182756424, 0.02962402068078518, 0.027371902018785477, -0.01430466491729021, -0.020330937579274178, 0.02989625558257103, -0.007993783801794052, 0.005952027626335621, 0.00030374983907677233, 0.003542137099429965, 0.022038588300347328, 0.0006867724005132914, 0.00010073435259982944, -0.018623288720846176, -0.0031074904836714268, 0.0111059146001935, -0.013723074458539486, 0.012089669704437256, -0.0030811952892690897, 0.010122159495949745, 0.003467891365289688, 0.003972143400460482, 0.003068820806220174, 0.005902530625462532, -0.002880113199353218, 0.017200246453285217, -0.013215729035437107, -0.009317831136286259, 0.032197870314121246, 0.0068739112466573715, 0.0038050904404371977, 0.012250535190105438, -0.024847550317645073, -0.0013047129614278674, 0.003517388366162777, 0.0009551395778544247, -0.010493387468159199, -0.00750499963760376, -0.0012892450904473662, 0.021061019971966743, -0.00881667248904705, -0.004856904037296772, 0.004464020952582359, -0.01866041123867035, -0.0023263641633093357, -0.0037308447062969208, -0.010425329208374023, 0.014403658919036388, -0.021234260872006416, 0.0032049380242824554, 0.006230448838323355, 0.006638800259679556, 0.011638008058071136, 0.011322463862597942, 0.009639562107622623, 0.019675102084875107, 0.003529762849211693, 0.005423027090728283, -0.002021647524088621, 0.0038793361745774746, -0.012015423737466335, -0.010035539045929909, -0.02638196013867855, 0.0006121400510892272, 0.0020525832660496235, -0.006366565823554993, 0.022805793210864067, 0.045611586421728134, -0.017967451363801956, 0.0003211511648260057, -0.017064129933714867, -0.009453948587179184, -0.021989092230796814, -0.009750930592417717, -0.0035668855998665094, 0.0009334845817647874, -0.007740110624581575, -0.010010791011154652, -0.0344499908387661, -0.01468826737254858, 0.00717708095908165, -0.010765621438622475, 0.020194821059703827, 0.04947236180305481, -0.002211902057752013, -0.0007710721693001688, -0.00829695351421833, -0.009509632363915443, 0.01710125245153904, 0.008043280802667141, -0.01077799592167139, 0.008909479714930058, -0.020392809063196182, 0.012844500131905079, 0.0010162375401705503, -0.005679793655872345, 0.0030982098542153835, -0.023733865469694138, 0.016606280580163002, -0.01659390702843666, -0.012968243099749088, -0.011607072316110134, -0.009243585169315338, -0.01565346121788025, -0.01738586090505123, 0.008024719543755054, -0.007288449443876743, 0.0111059146001935, -0.009150778874754906, 0.0029079553205519915, -0.021197138354182243, 0.0042165350168943405, -0.00040332411299459636, -0.030836699530482292, 0.012108230963349342, 0.010765621438622475, 0.03618238866329193, 0.019922588020563126, -0.0005088921752758324, 0.022224202752113342, 0.01934099569916725, -0.011310090310871601, -0.019761722534894943, 0.021122891455888748, 0.003517388366162777, 0.013351845555007458, 0.029995249584317207, -0.0315791554749012, -0.00783910509198904, 0.0012938854051753879, 0.021320881322026253, -0.02065267041325569, -0.01617318019270897, 0.01789320632815361, 0.05395185202360153, 0.006490308791399002, -0.005101296119391918, -0.0024299987126141787, -0.013921062462031841, 0.012231973931193352, 0.010852241888642311, 0.015715332701802254, 0.025886990129947662, 0.013537460006773472, 0.004330997355282307, 0.020318564027547836, -0.009794240817427635, 0.001457844628021121, -0.03135642036795616, 0.001282284501940012, -0.015232736244797707, -0.006320162210613489, 0.0076906136237084866, -0.0003441596054472029, 0.0038484004326164722, 0.006700671277940273, -0.00026527358568273485, 0.030985191464424133, 0.0306882094591856, 0.02244693972170353, 0.002211902057752013, -0.0034183941315859556, 0.016643403097987175, -0.01853666827082634, 0.0071090226992964745, 0.019390493631362915, 0.01998445950448513, 0.012244347482919693, 0.021259009838104248, 0.0125413304194808, -0.008952789939939976, 0.007282262668013573, -0.007882415316998959, 0.008389760740101337, -0.02556525729596615, -0.01658153161406517, -0.009843737818300724, 0.01957610808312893, 0.0020293814595788717, -0.02166736125946045, 0.004986833781003952, 0.0002256372245028615, 0.009942731820046902, -0.0037122834473848343, -0.021184762939810753, -0.0187965277582407, -0.004457833711057901, -0.002941984450444579, -0.00014965141599532217, -0.001882437034510076, -0.02531777322292328, 0.0183881763368845, 0.00692340824753046, 0.0025104316882789135, -0.030118992552161217, -0.001493420684710145, 0.03234636038541794, -0.0026852183509618044, -0.03630613163113594, -0.01404480542987585, -0.017336362972855568, 0.005296190734952688, -0.008822860196232796, -0.00457229558378458, -0.01908113621175289, 0.023189397528767586, 0.006898659747093916, -0.007529748138040304, 0.013042489066720009, -0.011582324281334877, -0.012652698904275894, -0.011798873543739319, -0.0038669619243592024, -0.0022846010979264975, 0.011180159635841846, 0.0018267527921125293, -0.004556827712804079, -0.0015143022174015641, -5.602261080639437e-05, 0.0017741620540618896, -0.030391225591301918, -0.0034060198813676834, -0.0003553737769834697, -0.014391285367310047, -0.0022459314204752445, -0.011396709829568863, -0.029574524611234665, 0.001795817050151527, -0.0054972730576992035, 0.003591634100303054, -0.018610913306474686, -0.009583878330886364, 0.009806615300476551, -0.018635662272572517, 0.012287657707929611, 0.024377327412366867, 0.017076503485441208, -0.0176333449780941, 0.013265226036310196, -0.03197513520717621, -0.023857608437538147, 0.005191009491682053, 0.0011299262987449765, 0.019774096086621284, -0.009169340133666992, -0.016148433089256287, 0.004662008956074715, 0.0072327652014791965, 0.010524323210120201, 0.00893422868102789, -0.006842975504696369, 0.006131454836577177, -0.008358824998140335, 0.02648095414042473, -0.009757118299603462, 0.009800427593290806, -0.008513502776622772, -0.01893264427781105, 0.021617863327264786, -0.007950473576784134, -0.018487170338630676, 0.007164706941694021, 0.004191786516457796, 0.010214966721832752, 0.004662008956074715, 0.0034431428648531437, -0.030069494619965553, -0.015752455219626427, -0.003402926493436098, 0.024488694965839386, 0.003959768917411566, -0.0015738534275442362, 0.02610972709953785, -0.010883177630603313, -0.013896314427256584, -0.0019582295790314674, -0.0026465486735105515, 0.028040112927556038, 0.013277600519359112, -0.022508811205625534, 0.016222678124904633, -0.006137641612440348, 0.0003022030577994883, 0.0037122834473848343, -0.00868674274533987, 0.021617863327264786, 0.028485586866736412, 0.004188693128526211, -0.007622555363923311, 0.002829069271683693, 0.016272176057100296, 0.003238967154175043, 0.0062861330807209015, -0.006094331853091717, 0.003523575607687235, 0.00725132692605257, 0.001047946629114449, -0.013958184979856014, -0.0030533531680703163, -0.0010456264717504382, 0.0021917938720434904, -0.0013526632683351636, 0.008389760740101337, 0.022224202752113342, -0.020182447507977486, -0.0015653461450710893, 0.00113379315007478, 0.006211887579411268, 0.01135958731174469, -0.0033039322588592768, 0.0017911767354235053, -0.024847550317645073, 0.0034431428648531437, 0.019551359117031097, 0.007443128153681755, 0.0032729965168982744, -0.009942731820046902, 0.021358003839850426, 0.013859190978109837, -0.024191712960600853, 0.02922804467380047, 0.017138374969363213, -0.0027826656587421894, -0.014539776369929314, -0.037939537316560745, -0.0004013906291220337, 0.002047942951321602, -0.0003826358588412404, 0.03511819988489151, 0.007449315395206213, -0.012968243099749088, -7.178047962952405e-05, -0.0016272175125777721, 0.02427833341062069, 0.011458581313490868, -0.031381167471408844, 0.021729232743382454, 0.011248218826949596, 0.011477142572402954, 0.022100459784269333, 0.023276016116142273, -0.016420666128396988, 0.006218074820935726, -0.012170102447271347, 0.034004516899585724, 0.015591589733958244, -0.015764830633997917, 0.00848256703466177, 0.013958184979856014, 0.004606324713677168, 0.03289083018898964, -0.002971373498439789, -0.001617936883121729, 0.007993783801794052, 0.00503014400601387, -0.013265226036310196, -0.021098144352436066, 0.012275283224880695, 0.01710125245153904, 0.012454710900783539, -0.02596123516559601, -0.0004833702405449003, -0.007257514167577028, -0.0071090226992964745, 0.020467055961489677, -0.004361933097243309, -0.01918013021349907, -0.028114359825849533, 0.013500337488949299, -0.011891680769622326, -0.008451631292700768, -0.010932674631476402, 0.002279960783198476, -0.004343371372669935, 0.008470193482935429, -0.0006987599772401154, -0.01442840788513422, 0.0001417241437593475, -0.006545993033796549, 0.006818227004259825, -1.6047892131609842e-05, -0.027644136920571327, -0.021197138354182243, 0.02192722074687481, 0.0011917976662516594, 0.006539805792272091, 0.005586986429989338, 0.0057911621406674385, 0.005076547618955374, -0.008915667422115803, -0.0028723792638629675, -0.0213951263576746, 0.021568365395069122, -0.004293874371796846, 0.005122951231896877, 0.008006157353520393, -0.004958991892635822, -0.0017571474891155958, 0.03081195242702961, 0.0016024690121412277, 0.007133771199733019, -0.012256721965968609, -0.010270650498569012, 0.006892472971230745, -0.025886990129947662, -0.003307025646790862, -0.001143073895946145, 0.011972113512456417, -0.011433832347393036, 0.015059496276080608, 0.03887997940182686, 0.03105943650007248, -0.01827680878341198, -0.010041726753115654, -0.025293024256825447, 0.0017726152436807752, -0.005679793655872345, -0.007616368122398853, 0.03578641265630722, -0.01502237282693386, -0.00907034520059824, 0.022397443652153015, 0.018747031688690186, 0.00388242956250906, 0.004612511955201626, -0.004627979826182127, 0.027965867891907692, 0.007820543833076954, 0.0025521947536617517, -0.018066445365548134, -0.014453156851232052, -0.0032204058952629566, 0.003399832872673869, 0.03578641265630722, -0.022508811205625534, 0.004262938629835844, -0.002686765044927597, 0.004726974293589592, -0.015492595732212067, -0.0037401255685836077, 0.011019294150173664, -0.009150778874754906, 0.01135958731174469, -0.0005216531571932137, 0.0071028354577720165, -0.0034771719947457314, 0.0033750843722373247, 0.002965186256915331, -0.004105166532099247, -0.010097410529851913, 0.005092015489935875, -0.011712254025042057, -0.028262849897146225, 0.014366536401212215, 0.015888573601841927, -0.03563791885972023, 1.833181522670202e-05, 0.0078947888687253, 0.011013107374310493, 0.00662642577663064, -0.020046330988407135, -0.033856023102998734, 0.030118992552161217, -0.009435386396944523, -0.012170102447271347, 0.0088847316801548, -0.00868674274533987, 0.01607418619096279, 0.013921062462031841, 0.008723866194486618, 0.016148433089256287, -0.016779521480202675, -0.012572266161441803, 0.01129152812063694, 0.0026883119717240334, -0.008624871261417866, -0.006552180275321007, 0.020603172481060028, 0.0042505646124482155, -0.013153857551515102, -0.004129915032535791, 0.022236578166484833, 0.016160806640982628, -0.0287083238363266, 0.019427616149187088, 0.0014477905351668596, 0.0036565992049872875, -0.0008723865612410009, -0.007220391184091568, 0.014292290434241295, 0.004139196127653122, 0.0029791074339300394, 0.0002855751372408122, -0.017323989421129227, -0.009775679558515549, 0.015294607728719711, -0.0007107475539669394, 0.011167786084115505, -0.00801853183656931, 0.00616857735440135, 0.001401386922225356, 0.011180159635841846, -0.01162563357502222, 0.007059525698423386, 0.00078383315121755, 0.042889248579740524, -0.018722282722592354, -0.001324047683738172, -0.0014833665918558836, 0.020207196474075317, 0.003087382297962904, 0.006545993033796549, -0.0063789403066039085, -0.012522769160568714, -0.0031275986693799496, 0.005543676670640707, -0.005045611876994371, -0.0008778003393672407, -0.013883939944207668, 0.025614755228161812, -0.001973697217181325, 0.0060200863517820835, -0.0018097381107509136, 0.019501861184835434, 0.004337184596806765, -0.01997208409011364, -0.004652728326618671, -0.01267126016318798, 0.012120605446398258, -0.01194736547768116, -0.014416033402085304, 0.023288391530513763, 0.02260780520737171, -0.06211887300014496, 0.021184762939810753, -0.019415242597460747, 0.009447760879993439, 0.002974467119202018, 0.0023727677762508392, -0.005438494961708784, 0.011792686767876148, 0.009305456653237343, 0.006502682808786631, -0.006304694339632988, 0.011204908601939678, 0.014515028335154057, 0.004934243392199278, -0.002015460515394807, -0.02336263656616211, -0.005778787657618523, -0.006824414245784283, 0.0012389745097607374, -0.030341729521751404, 0.0052033839747309685, -0.00835263729095459, 0.004055669531226158, 0.029327038675546646, 0.024773303419351578, 0.00489093316718936, -0.005775694269686937, -0.02438970096409321, 0.00675635552033782, 0.007733923848718405, 0.00960243958979845, -0.00796903483569622, 0.0006581568741239607, -0.01906876266002655, 0.016222678124904633, 0.002324817469343543, 0.03588540479540825, 0.005883968900889158, -0.008699117228388786, -0.007263700943440199, -0.010542884469032288, 0.009317831136286259, -0.0042381901293993, 0.007282262668013573, -0.029079552739858627, -0.005423027090728283, -0.004098979756236076, -0.019811218604445457, -0.0046743834391236305, 0.017682842910289764, -0.0007339493604376912, -0.009039410389959812, 0.0007378163281828165, -0.0019365744665265083, -0.023560624569654465, -0.009020848199725151, -0.0023139899130910635, -0.017422983422875404, 0.00034628642606548965, -0.0024067971389740705, 0.01802932284772396, 0.013525085523724556, 0.010586194694042206, 0.0005900983815081418, 0.026530452072620392, 0.009416825138032436, 0.0029280635062605143, 0.0009388983016833663, -0.007913351058959961, 0.02885681577026844, -0.027842124924063683, 0.008983725681900978, 0.022372694686055183, -0.01363645400851965, 0.026456205174326897, -0.02833709679543972, 0.009002286940813065, 0.015257484279572964, 0.011000732891261578, 0.008983725681900978, -0.004887839779257774, -0.004958991892635822, -0.02648095414042473, 0.010988358408212662, -0.0003120638139080256, -0.028386592864990234, 0.025231152772903442, -0.004488769453018904, 0.004284593742340803, -0.011427645571529865, 0.003064180491492152, -0.002214995678514242, 0.005234319716691971, 0.030910946428775787, 0.023597747087478638, -0.025515761226415634, 0.014985250309109688, -0.0067377942614257336, -0.0017803491791710258, 0.01567821018397808, 0.013673576526343822, -0.002303162356838584, 0.017955077812075615, -0.0002121028519468382, 0.016346421092748642, -0.0206402949988842, -0.0011477142106741667, 0.00959625281393528, -0.005435401573777199, -0.004643447697162628, 0.016247427091002464, -0.006453185807913542, -0.023424508050084114, -0.016136057674884796, 0.0161979291588068, 0.0022165426053106785, 0.02300378307700157, -0.013859190978109837, -0.015183239243924618, -0.009299269877374172, -0.007393631152808666, 0.005141512490808964, -0.0013039394980296493, 0.0035699792206287384, 0.019279124215245247, -0.004030921030789614, 0.003953581675887108, 0.002541367197409272, -0.004692944698035717, -0.026975926011800766, 0.008383573032915592, 0.004389774985611439, 0.009132216684520245, -0.007090460974723101, -0.003003855934366584, -0.0026852183509618044, -0.004742442164570093, 0.01721262000501156, -0.0030610868707299232, 0.020578423514962196, -0.009410638362169266, 0.044349413365125656, -0.0046156058087944984, -0.017286866903305054, -0.009515820071101189, 0.004884746391326189, 0.011464768089354038, -0.0026604696176946163, -0.004191786516457796, -0.029822008684277534, 0.010103598237037659, 0.002408343832939863, -0.015727706253528595, 0.0015668929554522038, -0.01722499541938305, 0.003622569842264056, -0.017695216462016106, -0.0099117960780859, -0.00534878158941865, -0.026852183043956757, 0.024637186899781227, 0.0015212628059089184, 0.009317831136286259, -0.0106975631788373, -0.025911737233400345, 0.009961294010281563, -0.01123584434390068, -0.002648095367476344, -0.016111310571432114, -0.010530509985983372, 0.01853666827082634, 0.0016519661294296384, -0.003888616804033518, 0.007276075426489115, -0.016631029546260834, 0.013809693977236748, 0.0031492537818849087, -0.015195612795650959, 0.00037954229628667235, 0.00796284805983305, 0.0019226534059271216, -0.009645749814808369, 0.004946617409586906, -0.003990704659372568, -0.003238967154175043, -0.0015375040238723159, -0.012615576386451721, 0.005187916103750467, 0.04709650203585625, -0.0076039936393499374, 0.01208348199725151, -0.025255901739001274, -0.010511948727071285, -0.003672066843137145, -0.012844500131905079, -0.0005231999093666673, 0.008569187484681606, -0.00015564521891064942, 0.016915637999773026, 0.00972618255764246, 0.004349558614194393, 0.002479495946317911, 0.0008731599664315581, -0.02062792144715786, 0.019551359117031097, 0.0017710685497149825, -0.007993783801794052, -0.027446148917078972, 0.0046156058087944984, 0.0008321701898239553, 0.0013658108655363321, -0.0035050141159445047, 0.013549834489822388, 0.0006941196625120938, 0.015331730246543884, 0.00763492938131094, 0.002009273273870349, -0.0002828682481776923, 0.01591332070529461, 0.015430724248290062, 0.02675318904221058, 0.02257068268954754, -0.03160390630364418, 0.0012312406906858087, -0.017138374969363213, -0.005868501029908657, -0.014972875826060772, -0.018759405240416527, 0.025243526324629784, 0.004201067145913839, -0.01455215085297823, 0.01827680878341198, 0.010926486924290657, -0.011848371475934982, 0.0192048791795969, -0.002689858665689826, 0.023449257016181946, 0.010085036046802998, 0.009212649427354336, -0.004392868839204311, -0.020986774936318398, -0.0011662757024168968, -0.0008422242826782167, 0.006979092489928007, -0.01815306581556797, 0.016222678124904633, -0.020083453506231308, -0.01384681649506092, 0.008494941517710686, -0.011167786084115505, 0.003907178062945604, -0.028361843898892403, 0.014799635857343674, 0.04358220472931862, -0.008773363195359707, 0.002235103864222765, -0.0034183941315859556, 0.0029110489413142204, -0.0015150756807997823, 0.0038576810620725155, -0.010078849270939827, -0.010276837274432182, 0.010406767949461937, -0.00926214735955, 0.005930372513830662, -0.013302348554134369, 0.003167815040796995, -0.00692340824753046, 0.006109799724072218, -0.013401342555880547, 0.004859997425228357, -0.0022134489845484495, -0.006564554292708635, 0.006830601487308741, 0.009818989783525467, 0.0008391307201236486, -0.016111310571432114, 0.023783361539244652, 0.008538251742720604, 0.00417322525754571, 0.007826730608940125, 0.007987596094608307, 0.0008213426917791367, 0.011699879541993141, -0.030910946428775787, -0.020145324990153313, 0.033732280135154724, -0.033856023102998734, -0.007919537834823132, 0.001766428118571639, 0.021246634423732758, -0.013574582524597645, 0.009429199621081352, 0.017286866903305054, -0.010165468789637089, -0.017917953431606293, 0.007727736607193947, -0.004934243392199278, 0.0014524308498948812, -0.0006163936923258007, -0.0022552120499312878, 0.024525819346308708, -0.0161979291588068, -0.017917953431606293, 0.015554467216134071, 0.017460105940699577, -0.015566841699182987, 0.02687693201005459, 0.03004474565386772, 0.02140749990940094, -0.037914786487817764, 0.014675893820822239, -0.002128375694155693, 0.00972618255764246, 0.016136057674884796, -0.006453185807913542, 0.006211887579411268, 0.024773303419351578, -0.016816643998026848, 0.004946617409586906, 0.0006902526947669685, 0.01698988303542137, -0.001501927967183292, -0.021778728812932968, -0.0318513922393322, 0.008451631292700768, 0.0015777203952893615, 0.016915637999773026, 0.002861551707610488, 0.006106706336140633, -0.009936545044183731, -0.028015365824103355, -0.008989912457764149, 0.017967451363801956, 0.00873623974621296, 0.006471747532486916, -0.007498812396079302, -0.0013263679575175047, 0.014799635857343674, 0.003832932561635971, -0.003681347705423832, -0.010586194694042206, 0.013289974071085453, 0.0074678766541182995, 0.015257484279572964, -0.008445444516837597, -0.0012095856945961714, 0.0039566755294799805, 0.014861507341265678, 0.020813535898923874, 0.00875480193644762, -0.010654252953827381, 0.030465472489595413, -0.023572999984025955, -0.024600064381957054, 0.016890889033675194, -0.002182513242587447, 0.011718440800905228, 0.02596123516559601, 0.011143037118017673, 0.014935753308236599, 0.013042489066720009, 0.00023337114544119686, -0.009992229752242565, -0.026678942143917084, 0.03789003938436508, 0.014193296432495117, 0.0017772556748241186, -0.003832932561635971, 0.0055343955755233765, -0.007616368122398853, -0.013982933945953846, -0.01082749292254448, -0.014589273370802402, 0.00499302102252841, 0.010617130436003208, -0.007480251137167215, 0.016915637999773026, -0.004779564682394266, -0.006354191806167364, 0.009020848199725151, -0.01958848163485527, 0.007368882652372122, -0.014230419881641865, -0.01581432670354843, -0.006137641612440348, 0.022917162626981735, 0.0069729057140648365, -0.012819752097129822, 0.004711506422609091, 0.018313931301236153, -0.004030921030789614, 0.015591589733958244, -0.011520452797412872, 0.005302377976477146, 0.01317860558629036, -0.0073750694282352924, -0.011112101376056671, 0.019019264727830887, 0.002912595635280013, 0.02195196971297264, 0.008649620227515697, -0.011223469860851765, -0.01658153161406517, -0.010054100304841995, 0.014675893820822239, -0.022174706682562828, -0.00030897025135345757, -0.024117467924952507, 0.022137582302093506, -0.009744743816554546, -0.012893997132778168, -0.0005692167906090617, -0.021358003839850426, -0.010864616371691227, -0.0039566755294799805, -0.0068800984881818295, -0.018252059817314148, -0.020442306995391846, 0.007263700943440199, 0.004627979826182127, -0.016754772514104843, -0.023820484057068825, 0.007350320927798748, -0.013772571459412575, 0.009249772876501083, -0.020293815061450005, 0.005020863376557827, -0.0037370319478213787, 0.0009427652694284916, 0.012572266161441803, 0.009113655425608158, -0.019873090088367462, 0.00040061725303530693, -0.005911811254918575, -0.006849162746220827, 0.006706858519464731, 0.015430724248290062, 0.0133270975202322, 0.012392839416861534, -0.0024918701965361834, -0.0016318579437211156, 0.01603706367313862, -0.02218708023428917, -0.008253643289208412, -0.0163340475410223, -0.017398234456777573, 0.011440020054578781, 0.017200246453285217, -0.016272176057100296, -0.033633287996053696, 0.009868486784398556, -0.012139166705310345, 0.001621030387468636, 0.024723807349801064, 0.011650382541120052, 0.011928804218769073, 0.001944308402016759, -0.005252880975604057, 0.009095094166696072, -0.01181743573397398, 0.004584670066833496, 0.019811218604445457, 0.015084244310855865, -0.007709174882620573, 0.00390099105425179, 0.009887048043310642, 0.018697533756494522, -0.004621792584657669, 0.05350637808442116, -0.01658153161406517, -0.006094331853091717, 0.011829809285700321, 0.002224276540800929, 0.0008623324683867395, -0.001075015403330326, -0.008142274804413319, 0.007208016701042652, -0.0013642641715705395, -0.0017091970657929778, 0.014180921949446201, 0.007653490640223026, -0.011916429735720158, -0.02325126715004444, -0.0026047853752970695, -0.020454680547118187, 0.0002505791198927909, 0.006929595489054918, 0.01496050227433443, 0.006292320322245359, -0.0030425256118178368, 0.04400293156504631, 0.014416033402085304, 0.001992258708924055, 0.012170102447271347, 0.006898659747093916, -0.010536697693169117, -0.005187916103750467, -0.010672814212739468, -0.015121367760002613, 0.01325285155326128, 0.014713016338646412, 0.0013341017765924335, 0.012918746098876, 0.004785751923918724, 0.0037308447062969208, 0.0026140662375837564, -0.007591619621962309, 0.02336263656616211, -0.006774917244911194, 0.02598598413169384, -0.01580195315182209, -0.0017973638605326414, 0.004708412569016218, 0.005234319716691971, 0.0016040157061070204, -0.02466193586587906, -0.010382018983364105, -0.0012095856945961714, -0.014997624792158604, 0.0074678766541182995, -0.008315514773130417, -0.007721549365669489, -0.018610913306474686, -0.013723074458539486, 0.010419141501188278, 0.023152273148298264, -0.007876227609813213, 0.036627862602472305, -0.003467891365289688, -0.0014532041968777776, -0.02417933940887451, -0.029945751652121544, 0.02062792144715786, 0.0016627935692667961, -0.005135325249284506, 0.024711431935429573, -0.019675102084875107, -0.014564525336027145, 0.0027594638522714376, 0.007053338456898928, 0.011687505058944225, -0.027767879888415337, 0.009825176559388638, -0.010128346271812916, -0.021580740809440613, -0.008235082030296326, 0.014341788366436958, 8.59915598994121e-05, 0.0015715332701802254, 0.0038081840611994267, 0.018363427370786667, -0.021865349262952805, 0.0028847535140812397, -0.042245782911777496, -0.006527431774884462, 0.004102073144167662, 0.017818959429860115, 0.010728498920798302, -0.016235051676630974, 0.005679793655872345, 0.015331730246543884, -0.004197973757982254, -0.01632167212665081, -0.011798873543739319, 0.00907034520059824, 0.009286895394325256, 0.00244546658359468, -0.002632627496495843, 0.00457229558378458, -0.015591589733958244, 0.0005502686835825443, -0.006595490034669638, -0.003031698055565357, -0.011514265090227127, -0.014774887822568417, 0.016618655994534492, 0.020306190475821495, 0.018190188333392143, 0.003174002282321453, -0.0013835988938808441, 0.0032575286459177732, 0.021234260872006416, -0.022929536178708076, 0.008600123226642609, 0.0015475581167265773, 0.014515028335154057, -0.007900976575911045, 0.019118258729577065, 0.009169340133666992, 0.00750499963760376, 0.0011229657102376223, 0.008890918456017971, -0.019526610150933266, -0.0011848370777443051, 0.008841421455144882, -0.025515761226415634, 0.00926833413541317, 0.03561317175626755, -0.007430753670632839, -0.05311040207743645, -0.0002733941946644336, 0.01581432670354843, -0.03004474565386772, 0.028906313702464104, -0.00842069648206234, 0.005144605878740549, 0.001805097796022892, -0.020863031968474388, 0.021642612293362617, -0.020541300997138023, -0.0016442321939393878, 0.04632929712533951, 0.008377386257052422, 0.0007208017050288618, -0.0033255871385335922, -0.021865349262952805, 0.025911737233400345, -0.022620180621743202, 0.013945811428129673, 0.020863031968474388, -0.018734656274318695, 0.0005278402823023498, 0.004327903501689434, 0.0161979291588068, -0.009088907390832901, 0.006985279731452465, 0.0009048690553754568, 0.00734413368627429, -0.0032142186537384987, 0.012349529191851616, 0.009571503847837448, 0.0232388935983181, 0.006991466972976923, 0.005008488893508911, 0.014539776369929314, -0.01958848163485527, 0.052169956266880035, -0.0030425256118178368, 0.012918746098876, -7.603413541801274e-05, 0.011378148570656776, 0.028535084798932076, -0.010759434662759304, -0.018474796786904335, 0.030118992552161217, 0.005457056686282158, 0.030613962560892105, 0.010821306146681309, 0.002505791373550892, 0.03709808364510536, 0.00521885184571147, -0.004139196127653122, -0.0015073417453095317, -0.022657303139567375, -0.02219945378601551, -0.004281500354409218, 0.0026279871817678213, -0.00603864761069417, 0.015987567603588104, 0.0006380486884154379, 0.04449790343642235, 0.01972459815442562, -0.00447020772844553, 0.012646512128412724, 0.011248218826949596, 0.013054863549768925, -0.012881623581051826, -0.019427616149187088, 0.0007633382920175791, -0.018907897174358368, -0.03863249719142914, -0.00873623974621296, -0.03514295071363449, 0.004767190665006638, 0.004213441628962755, -0.006935782730579376, -0.0007517373887822032, -0.01800457388162613, -0.02244693972170353, 0.021729232743382454, -0.017014632001519203, -0.0019675102084875107, -0.009330205619335175, -0.0010982172098010778, -0.00776485912501812, -0.01317860558629036, 0.006366565823554993, -0.004046388901770115, -0.007245139684528112, 0.030886197462677956, -0.0010842961492016912, 0.0006527431542053819, 0.007826730608940125, -0.013685951009392738, 0.007158519700169563, -0.00848256703466177, -0.00027803456760011613, 0.014923378825187683, -0.0017849896103143692, -0.012572266161441803, -0.011600885540246964, -0.017707591876387596, -0.012603201903402805, -0.003177095903083682, 0.013624079525470734, -0.013933436945080757, 0.015319355763494968, 0.003539043478667736, 0.0033905520103871822, 0.015306981280446053, 0.009590065106749535, 0.009899422526359558, 0.00984992552548647, 0.0065150572918355465, 0.008785737678408623, 0.027965867891907692, 0.0005815910408273339, 0.004232002887874842, 0.020541300997138023, -0.009627188555896282, 0.013883939944207668, -0.00649649603292346, -0.0066078645177185535, 0.014527401886880398, 0.025095036253333092, -0.005367342848330736, -0.005667419172823429, 0.0012003049487248063, 0.008142274804413319, 0.013042489066720009, 0.005036331247538328, 0.015764830633997917, 0.011829809285700321, 0.0034833592362701893, -0.025911737233400345, -0.0018205656670033932, -0.020924903452396393, -0.0022691332269459963, 0.004232002887874842, -0.023968975991010666, -0.005057985894382, -0.017695216462016106, -0.0177694633603096, -0.015740081667900085, -0.008717678487300873, -0.013624079525470734, 0.006094331853091717, -0.0072389524430036545, 0.016494913026690483, -0.01220722496509552, -0.00013060664059594274, -0.051625486463308334, 0.0034895462449640036, 0.015876198187470436, 0.012683634646236897, -0.030341729521751404, 0.001650419319048524, -0.0021778729278594255, -0.007950473576784134, 0.018771778792142868, 0.001879343413747847, -0.0029883880633860826, -0.017707591876387596, -0.003591634100303054, 0.02571374922990799, -0.009614814072847366, -0.008928041905164719]\n",
      "--------------------------------------------------\n"
     ]
    },
    {
     "name": "stderr",
     "output_type": "stream",
     "text": [
      "[rank0]:[W924 19:40:06.288092541 ProcessGroupNCCL.cpp:1476] Warning: WARNING: destroy_process_group() was not called before program exit, which can leak resources. For more info, please see https://pytorch.org/docs/stable/distributed.html#shutdown (function operator())\n"
     ]
    }
   ],
   "source": [
    "run_encode(model=\"e5_v\", modality=\"image\", seed=42)"
   ]
  },
  {
   "cell_type": "code",
   "execution_count": 26,
   "id": "60698cf2-827a-4998-b3f4-08f0994a7b5c",
   "metadata": {
    "scrolled": true
   },
   "outputs": [
    {
     "name": "stdout",
     "output_type": "stream",
     "text": [
      "INFO 09-24 19:41:15 [config.py:1467] Using max model len 4096\n",
      "INFO 09-24 19:41:15 [arg_utils.py:1580] (Disabling) chunked prefill by default\n",
      "INFO 09-24 19:41:15 [arg_utils.py:1583] (Disabling) prefix caching by default\n",
      "INFO 09-24 19:41:15 [config.py:4566] full_cuda_graph is not supported with cascade attention. Disabling cascade attention.\n",
      "INFO 09-24 19:41:15 [config.py:4581] Only \"last\" pooling supports chunked prefill and prefix caching; disabling both.\n",
      "INFO 09-24 19:41:18 [__init__.py:244] Automatically detected platform rocm.\n",
      "INFO 09-24 19:41:27 [core.py:459] Waiting for init message from front-end.\n",
      "INFO 09-24 19:41:27 [config.py:4581] Only \"last\" pooling supports chunked prefill and prefix caching; disabling both.\n",
      "INFO 09-24 19:41:27 [core.py:69] Initializing a V1 LLM engine (v0.9.2.dev364+gb432b7a28) with config: model='royokong/e5-v', speculative_config=None, tokenizer='royokong/e5-v', skip_tokenizer_init=False, tokenizer_mode=auto, revision=None, override_neuron_config={}, tokenizer_revision=None, trust_remote_code=False, dtype=torch.float16, max_seq_len=4096, download_dir=None, load_format=LoadFormat.AUTO, tensor_parallel_size=1, pipeline_parallel_size=1, disable_custom_all_reduce=False, quantization=None, enforce_eager=False, kv_cache_dtype=auto,  device_config=cuda, decoding_config=DecodingConfig(backend='auto', disable_fallback=False, disable_any_whitespace=False, disable_additional_properties=False, reasoning_backend=''), observability_config=ObservabilityConfig(show_hidden_metrics_for_version=None, otlp_traces_endpoint=None, collect_detailed_traces=None), seed=42, served_model_name=royokong/e5-v, num_scheduler_steps=1, multi_step_stream_outputs=True, enable_prefix_caching=False, chunked_prefill_enabled=False, use_async_output_proc=False, pooler_config=PoolerConfig(pooling_type=None, normalize=None, softmax=None, step_tag_id=None, returned_token_ids=None), compilation_config={\"level\":3,\"debug_dump_path\":\"\",\"cache_dir\":\"\",\"backend\":\"\",\"custom_ops\":[\"+rms_norm\",\"+silu_and_mul\"],\"splitting_ops\":[],\"use_inductor\":true,\"compile_sizes\":[],\"inductor_compile_config\":{\"enable_auto_functionalized_v2\":false},\"inductor_passes\":{},\"use_cudagraph\":true,\"cudagraph_num_of_warmups\":1,\"cudagraph_capture_sizes\":[512,504,496,488,480,472,464,456,448,440,432,424,416,408,400,392,384,376,368,360,352,344,336,328,320,312,304,296,288,280,272,264,256,248,240,232,224,216,208,200,192,184,176,168,160,152,144,136,128,120,112,104,96,88,80,72,64,56,48,40,32,24,16,8,4,2,1],\"cudagraph_copy_inputs\":false,\"full_cuda_graph\":true,\"max_capture_size\":512,\"local_cache_dir\":null}\n",
      "WARNING 09-24 19:41:27 [utils.py:2753] Methods determine_num_available_blocks,device_config,get_cache_block_size_bytes not implemented in <vllm.v1.worker.gpu_worker.Worker object at 0x7eaa601f6f60>\n",
      "INFO 09-24 19:41:27 [parallel_state.py:1076] rank 0 in world size 1 is assigned as DP rank 0, PP rank 0, TP rank 0, EP rank 0\n"
     ]
    },
    {
     "name": "stderr",
     "output_type": "stream",
     "text": [
      "Using a slow image processor as `use_fast` is unset and a slow processor was saved with this model. `use_fast=True` will be the default behavior in v4.52, even if the model was saved with a slow processor. This will result in minor differences in outputs. You'll still be able to use a slow processor with `use_fast=False`.\n"
     ]
    },
    {
     "name": "stdout",
     "output_type": "stream",
     "text": [
      "INFO 09-24 19:41:29 [gpu_model_runner.py:1751] Starting to load model royokong/e5-v...\n",
      "INFO 09-24 19:41:29 [gpu_model_runner.py:1756] Loading model from scratch...\n",
      "INFO 09-24 19:41:29 [rocm.py:224] Using Triton Attention backend on V1 engine.\n",
      "INFO 09-24 19:41:29 [config.py:4581] Only \"last\" pooling supports chunked prefill and prefix caching; disabling both.\n",
      "INFO 09-24 19:41:29 [rocm.py:224] Using Triton Attention backend on V1 engine.\n",
      "INFO 09-24 19:41:29 [weight_utils.py:292] Using model weights format ['*.safetensors']\n"
     ]
    },
    {
     "name": "stderr",
     "output_type": "stream",
     "text": [
      "Loading safetensors checkpoint shards:   0% Completed | 0/4 [00:00<?, ?it/s]\n",
      "Loading safetensors checkpoint shards:  25% Completed | 1/4 [00:01<00:05,  1.67s/it]\n",
      "Loading safetensors checkpoint shards:  50% Completed | 2/4 [00:03<00:03,  1.77s/it]\n",
      "Loading safetensors checkpoint shards:  75% Completed | 3/4 [00:05<00:01,  1.80s/it]\n",
      "Loading safetensors checkpoint shards: 100% Completed | 4/4 [00:05<00:00,  1.25s/it]\n",
      "Loading safetensors checkpoint shards: 100% Completed | 4/4 [00:05<00:00,  1.44s/it]\n",
      "\n"
     ]
    },
    {
     "name": "stdout",
     "output_type": "stream",
     "text": [
      "INFO 09-24 19:41:35 [default_loader.py:272] Loading weights took 5.77 seconds\n",
      "INFO 09-24 19:41:35 [gpu_model_runner.py:1782] Model loading took 15.6055 GiB and 6.044245 seconds\n",
      "INFO 09-24 19:41:36 [gpu_model_runner.py:2221] Encoder cache will be initialized with a budget of 4096 tokens, and profiled with 2 image items of the maximum feature size.\n",
      "INFO 09-24 19:41:52 [backends.py:509] Using cache directory: /root/.cache/vllm/torch_compile_cache/92c636d592/rank_0_0/backbone for vLLM's torch.compile\n",
      "INFO 09-24 19:41:52 [backends.py:520] Dynamo bytecode transform time: 4.45 s\n",
      "INFO 09-24 19:41:55 [backends.py:155] Directly load the compiled graph(s) for shape None from the cache, took 0.364 s\n",
      "INFO 09-24 19:41:55 [monitor.py:34] torch.compile takes 4.45 s in total\n",
      "INFO 09-24 19:42:19 [gpu_worker.py:232] Available KV cache memory: 155.52 GiB\n",
      "INFO 09-24 19:42:19 [kv_cache_utils.py:716] GPU KV cache size: 1,274,032 tokens\n",
      "INFO 09-24 19:42:19 [kv_cache_utils.py:720] Maximum concurrency for 4,096 tokens per request: 311.04x\n",
      "INFO 09-24 19:42:19 [rocm.py:224] Using Triton Attention backend on V1 engine.\n"
     ]
    },
    {
     "name": "stderr",
     "output_type": "stream",
     "text": [
      "Capturing CUDA graphs: 100%|██████████| 67/67 [00:08<00:00,  7.67it/s]\n"
     ]
    },
    {
     "name": "stdout",
     "output_type": "stream",
     "text": [
      "INFO 09-24 19:42:28 [gpu_model_runner.py:2306] Graph capturing finished in 9 secs, took 0.56 GiB\n",
      "INFO 09-24 19:42:28 [core.py:172] init engine (profile, create kv cache, warmup model) took 52.54 seconds\n"
     ]
    },
    {
     "ename": "AttributeError",
     "evalue": "'ModelRequestData' object has no attribute 'documents'",
     "output_type": "error",
     "traceback": [
      "\u001b[31m---------------------------------------------------------------------------\u001b[39m",
      "\u001b[31mAttributeError\u001b[39m                            Traceback (most recent call last)",
      "\u001b[36mCell\u001b[39m\u001b[36m \u001b[39m\u001b[32mIn[26]\u001b[39m\u001b[32m, line 1\u001b[39m\n\u001b[32m----> \u001b[39m\u001b[32m1\u001b[39m \u001b[43mrun_score\u001b[49m\u001b[43m(\u001b[49m\u001b[43mmodel\u001b[49m\u001b[43m=\u001b[49m\u001b[33;43m\"\u001b[39;49m\u001b[33;43me5_v\u001b[39;49m\u001b[33;43m\"\u001b[39;49m\u001b[43m,\u001b[49m\u001b[43m \u001b[49m\u001b[43mmodality\u001b[49m\u001b[43m=\u001b[49m\u001b[33;43m\"\u001b[39;49m\u001b[33;43mimage\u001b[39;49m\u001b[33;43m\"\u001b[39;49m\u001b[43m,\u001b[49m\u001b[43m \u001b[49m\u001b[43mseed\u001b[49m\u001b[43m=\u001b[49m\u001b[32;43m42\u001b[39;49m\u001b[43m)\u001b[49m\n",
      "\u001b[36mCell\u001b[39m\u001b[36m \u001b[39m\u001b[32mIn[24]\u001b[39m\u001b[32m, line 8\u001b[39m, in \u001b[36mrun_score\u001b[39m\u001b[34m(model, modality, seed)\u001b[39m\n\u001b[32m      5\u001b[39m engine_args = asdict(req_data.engine_args) | {\u001b[33m\"\u001b[39m\u001b[33mseed\u001b[39m\u001b[33m\"\u001b[39m: seed}\n\u001b[32m      6\u001b[39m llm = LLM(**engine_args)\n\u001b[32m----> \u001b[39m\u001b[32m8\u001b[39m outputs = llm.score(req_data.query, \u001b[43mreq_data\u001b[49m\u001b[43m.\u001b[49m\u001b[43mdocuments\u001b[49m)\n\u001b[32m     10\u001b[39m \u001b[38;5;28mprint\u001b[39m(\u001b[33m\"\u001b[39m\u001b[33m-\u001b[39m\u001b[33m\"\u001b[39m * \u001b[32m30\u001b[39m)\n\u001b[32m     11\u001b[39m \u001b[38;5;28mprint\u001b[39m([output.outputs.score \u001b[38;5;28;01mfor\u001b[39;00m output \u001b[38;5;129;01min\u001b[39;00m outputs])\n",
      "\u001b[31mAttributeError\u001b[39m: 'ModelRequestData' object has no attribute 'documents'"
     ]
    }
   ],
   "source": [
    "run_score(model=\"e5_v\", modality=\"image\", seed=42)"
   ]
  },
  {
   "cell_type": "code",
   "execution_count": null,
   "id": "9e0a20bb-914b-4908-97fa-07efa8e42ec1",
   "metadata": {},
   "outputs": [],
   "source": []
  }
 ],
 "metadata": {
  "kernelspec": {
   "display_name": "Python 3 (ipykernel)",
   "language": "python",
   "name": "python3"
  },
  "language_info": {
   "codemirror_mode": {
    "name": "ipython",
    "version": 3
   },
   "file_extension": ".py",
   "mimetype": "text/x-python",
   "name": "python",
   "nbconvert_exporter": "python",
   "pygments_lexer": "ipython3",
   "version": "3.12.11"
  }
 },
 "nbformat": 4,
 "nbformat_minor": 5
}
