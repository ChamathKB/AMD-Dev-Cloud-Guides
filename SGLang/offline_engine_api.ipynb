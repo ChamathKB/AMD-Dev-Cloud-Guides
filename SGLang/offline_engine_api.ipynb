{
 "cells": [
  {
   "cell_type": "code",
   "execution_count": 1,
   "id": "b0df87e0-2278-4739-8e0a-4c72ac17da15",
   "metadata": {},
   "outputs": [],
   "source": [
    "import asyncio\n",
    "\n",
    "import sglang as sgl\n",
    "# import sglang.test.doc_patch\n",
    "from sglang.utils import async_stream_and_merge, stream_and_merge\n",
    "\n",
    "import nest_asyncio\n",
    "\n",
    "nest_asyncio.apply()"
   ]
  },
  {
   "cell_type": "code",
   "execution_count": 2,
   "id": "e018134c-8fe3-4b94-8227-a88728223efc",
   "metadata": {},
   "outputs": [
    {
     "name": "stdout",
     "output_type": "stream",
     "text": [
      "INFO 10-04 10:30:48 __init__.py:179] Automatically detected platform rocm.\n",
      "WARNING 10-04 10:30:48 rocm.py:34] `fork` method is not supported by ROCm. VLLM_WORKER_MULTIPROC_METHOD is overridden to `spawn` instead.\n"
     ]
    },
    {
     "name": "stderr",
     "output_type": "stream",
     "text": [
      "WARNING:sglang.srt.layers.quantization.deep_gemm_wrapper.configurer:Failed to import deep_gemm, disable ENABLE_JIT_DEEPGEMM.\n"
     ]
    },
    {
     "name": "stdout",
     "output_type": "stream",
     "text": [
      "INFO 10-04 10:30:57 __init__.py:179] Automatically detected platform rocm.\n",
      "INFO 10-04 10:30:57 __init__.py:179] Automatically detected platform rocm.\n"
     ]
    },
    {
     "name": "stderr",
     "output_type": "stream",
     "text": [
      "WARNING:sglang.srt.layers.quantization.deep_gemm_wrapper.configurer:Failed to import deep_gemm, disable ENABLE_JIT_DEEPGEMM.\n",
      "WARNING:sglang.srt.layers.quantization.deep_gemm_wrapper.configurer:Failed to import deep_gemm, disable ENABLE_JIT_DEEPGEMM.\n",
      "Loading safetensors checkpoint shards:   0% Completed | 0/1 [00:00<?, ?it/s]\n",
      "Loading safetensors checkpoint shards: 100% Completed | 1/1 [00:00<00:00,  2.73it/s]\n",
      "Loading safetensors checkpoint shards: 100% Completed | 1/1 [00:00<00:00,  2.72it/s]\n",
      "\n",
      "Capturing batches (bs=1 avail_mem=46.71 GB): 100%|██████████| 51/51 [00:09<00:00,  5.35it/s]  \n"
     ]
    }
   ],
   "source": [
    "llm = sgl.Engine(model_path=\"qwen/qwen2.5-0.5b-instruct\")"
   ]
  },
  {
   "cell_type": "code",
   "execution_count": 6,
   "id": "fd04e538-c73c-4c08-b5f8-53670fbbe6df",
   "metadata": {},
   "outputs": [],
   "source": [
    "prompts = [\n",
    "    \"Write a short, neutral self-introduction for a fictional character. Hello, my name is\",\n",
    "    \"Provide a concise factual statement about France’s capital city. The capital of France is\",\n",
    "    \"Explain possible future trends in artificial intelligence. The future of AI is\",\n",
    "]"
   ]
  },
  {
   "cell_type": "code",
   "execution_count": 7,
   "id": "115aeb1a-816c-4a98-b898-d1cf6dbae03d",
   "metadata": {},
   "outputs": [],
   "source": [
    "sampling_params = {\n",
    "    \"temperature\": 0.8, \n",
    "    \"top_p\": 0.95,\n",
    "    \"max_new_tokens\": 512,\n",
    "}"
   ]
  },
  {
   "cell_type": "markdown",
   "id": "056c6f7b-e8cb-47b2-864f-e639101e5a5f",
   "metadata": {},
   "source": [
    "#### Non-streaming Synchronous Generation"
   ]
  },
  {
   "cell_type": "code",
   "execution_count": 8,
   "id": "ded1a214-5b60-4b00-997c-52b6544450db",
   "metadata": {},
   "outputs": [
    {
     "name": "stderr",
     "output_type": "stream",
     "text": [
      "[aiter] type hints mismatch, override to --> mha_batch_prefill(q: torch.Tensor, k: torch.Tensor, v: torch.Tensor, cu_seqlens_q: torch.Tensor, kv_indptr: torch.Tensor, kv_page_indices: torch.Tensor, max_seqlen_q: int, max_seqlen_k: int, dropout_p: float, softmax_scale: float, logits_soft_cap: float, zero_tensors: bool, is_causal: bool, window_size_left: int, window_size_right: int, return_softmax_lse: bool, return_dropout_randval: bool, out: Optional[torch.Tensor] = None, bias: Optional[torch.Tensor] = None, alibi_slopes: Optional[torch.Tensor] = None, gen: Optional[torch.Generator] = None) -> list[torch.Tensor]\n",
      "[2025-10-04 10:34:41] type hints mismatch, override to --> mha_batch_prefill(q: torch.Tensor, k: torch.Tensor, v: torch.Tensor, cu_seqlens_q: torch.Tensor, kv_indptr: torch.Tensor, kv_page_indices: torch.Tensor, max_seqlen_q: int, max_seqlen_k: int, dropout_p: float, softmax_scale: float, logits_soft_cap: float, zero_tensors: bool, is_causal: bool, window_size_left: int, window_size_right: int, return_softmax_lse: bool, return_dropout_randval: bool, out: Optional[torch.Tensor] = None, bias: Optional[torch.Tensor] = None, alibi_slopes: Optional[torch.Tensor] = None, gen: Optional[torch.Generator] = None) -> list[torch.Tensor]\n"
     ]
    },
    {
     "name": "stdout",
     "output_type": "stream",
     "text": [
      "===============================\n",
      "Prompt: Write a short, neutral self-introduction for a fictional character. Hello, my name is\n",
      "Generated text:  [insert name], and I'm an [insert age or profession]. I'm a [insert occupation] and I'm currently [insert current occupation]. I enjoy [insert hobbies, interests, or passions], and I'm always looking for ways to grow and learn new things. I believe that my unique combination of skills and experiences makes me a valuable asset to anyone I meet. What kind of character are you? [insert any additional information or details about the character that you think will make the reader feel more comfortable and familiar with your personality. ] [insert the character]\n",
      "[Insert name] is a friendly, outgoing, and confident person. He has a friendly and outgoing personality, and he is always ready to lend a helping hand. He is known for his kindness, warmth, and sense of humor. He has a great sense of humor and is always smiling, which makes him a joy to be around. He is very empathetic and empathetic, and he always tries to put himself in others' shoes. He is always ready to help others, and he is a great listener. He is known for his honesty and integrity, and he always puts others' interests before his own. He is very outgoing and enjoys meeting new people, and he is very helpful in providing support to those in need. He is friendly, outgoing, and confident, and he is a true joy to be around. He is known for his sense of humor, empathy, and honesty, and he is always ready to lend a helping hand. He is a friendly, outgoing, and confident person who is always ready to lend a helping hand. He is friendly, outgoing, and confident, and he is always ready to lend a helping hand.\n",
      "What makes [insert name] unique? [insert any additional information about the character that you think will make the reader feel more comfortable and familiar with the character's personality. ] [insert the character]\n",
      "I'm a [insert name], an [insert occupation], who is friendly, outgoing, and confident. I love helping others and making people feel good. I'm known for being patient and understanding, and I always try to find the best solution for anyone who needs it. I'm always ready to lend a helping hand, and I'm very patient with others. I'm a good listener and I always try to understand what the other person is trying to say. I'm very empathetic and I always try to put myself in others' shoes. I'm always happy to help out in any way I can. I'm very friendly\n",
      "\n",
      "===============================\n",
      "Prompt: Provide a concise factual statement about France’s capital city. The capital of France is\n",
      "Generated text:  Paris. It is known as the \"City of Love\" due to its romantic charm and famous romantic spots like the Louvre Museum and the Arc de Triomphe. Paris is also home to many famous fashion houses like Chanel and Dior, and is a hub for the world of fashion, art, and culture. Despite its fame, the city is a city of contrasts, with its narrow streets and stunning architecture creating a unique and diverse landscape. Its most famous landmark is the Eiffel Tower, a symbol of French identity. The city is also known for its delicious cuisine and its love of gastronomy, with many restaurants serving French dishes like boudin or galette aux tomates. Paris is a cultural and historical center that continues to thrive, attracting millions of visitors each year to its museums, theaters, and other attractions. As a result, Paris is one of the world's most vibrant cities, blending old-world charm with modernity. In summary, Paris is the capital city of France, famous for its romantic charm, rich history, cultural offerings, and dining scene.\n",
      "\n",
      "===============================\n",
      "Prompt: Explain possible future trends in artificial intelligence. The future of AI is\n",
      "Generated text:  highly uncertain and depends on a number of factors, including advances in technology, changes in society, and economic factors. Here are some potential trends that could emerge in the future:\n",
      "\n",
      "1. Increased AI ethicality: As AI continues to advance, there may be increasing concerns about the ethical implications of AI systems. This could lead to further research on ethical guidelines for AI development and deployment, as well as new approaches to addressing AI bias and discrimination.\n",
      "\n",
      "2. AI integration with human decision-making: As AI becomes more integrated into everyday life, we may see a shift in how we think about the role of humans in AI systems. This could lead to new ways of designing and building AI systems that are more human-friendly and effective.\n",
      "\n",
      "3. AI in healthcare: As AI becomes more integrated into healthcare, we may see a rise in the use of AI to assist with diagnosis, treatment, and patient management. This could lead to new ways of improving patient outcomes and reducing costs in the healthcare industry.\n",
      "\n",
      "4. AI in entertainment: As AI continues to advance, we may see new forms of entertainment driven by AI-generated content. This could lead to new forms of media and entertainment, as well as changes in the way we consume and produce entertainment.\n",
      "\n",
      "5. AI in education: As AI continues to advance, we may see new ways of teaching and learning that are more aligned with human intelligence and creativity. This could lead to new ways of creating and delivering educational content.\n",
      "\n",
      "6. AI in transportation: As AI continues to advance, we may see new forms of transportation driven by AI. This could lead to new forms of mobility, as well as changes in the way we think about transportation and urban planning.\n",
      "\n",
      "7. AI in manufacturing: As AI continues to advance, we may see new ways of designing and manufacturing products that are more efficient, precise, and cost-effective. This could lead to new forms of manufacturing, as well as changes in the way we think about the role of humans in the manufacturing process. \n",
      "\n",
      "Overall, the future of AI is uncertain, but it is likely to continue to advance at a rapid pace, driven by a combination of technological and societal factors. As AI becomes more integrated into our lives, we may see a range of exciting new possibilities emerge. However, we should also be mindful of the potential impacts of AI on society and the environment, and work to develop and implement measures to mitigate these impacts. \n",
      "\n",
      "It is worth noting that many of these trends are still in the early stages of development, and there is still a lot of work to be done\n",
      "\n"
     ]
    }
   ],
   "source": [
    "outputs = llm.generate(prompts, sampling_params)\n",
    "\n",
    "for prompt, output in zip(prompts, outputs):\n",
    "    print(\"===============================\")\n",
    "    print(f\"Prompt: {prompt}\\nGenerated text: {output['text']}\")\n",
    "    print()"
   ]
  },
  {
   "cell_type": "markdown",
   "id": "c3b775a1-f9e0-4790-b490-17b5aa7576c3",
   "metadata": {},
   "source": [
    "#### Streaming Synchronous Generation"
   ]
  },
  {
   "cell_type": "code",
   "execution_count": 9,
   "id": "3ba28aae-245c-4f0f-9c00-25d19dbcd0e1",
   "metadata": {},
   "outputs": [
    {
     "name": "stdout",
     "output_type": "stream",
     "text": [
      "\n",
      "=== Testing synchronous streaming generation with overlap removal ===\n",
      "\n",
      "===============================\n",
      "Prompt: Write a short, neutral self-introduction for a fictional character. Hello, my name is\n",
      "Generated text:  [insert your name], and I am a [insert your occupation or field of interest]. I am a [insert your profession or vocation]. I am [insert your age] years old, [insert your gender], and I hail from [insert your country or region]. I am passionate about [insert your passion or interest], and I thrive on [insert your hobby or activity]. Throughout my career, I have [insert your achievements or accomplishments], and I am known for my [insert your qualities or attributes]. If you had the opportunity to have dinner with me, what would you serve me? I would serve you with my [insert your personality, interests, and hobbies]. Thank you for having me. What is your occupation or field of interest? I am a [insert your occupation or vocation]. What is your age? I am [insert your age]. What is your gender? I am [insert your gender]. Where do you hail from? I hail from [insert your country or region]. How old are you? I am [insert your age]. What is your gender? I am [insert your gender]. What are your hobbies? I am [insert your hobbies]. How old are you? I am [insert your age]. What is your gender? I am [insert your gender]. What is your nationality? I am [insert your nationality]. I am [insert your occupation or vocation]. I am a [insert your occupation or field of interest]. What is your age? I am [insert your age]. What is your gender? I am [insert your gender]. How old are you? I am [insert your age]. What is your gender? I am [insert your gender]. I have a passion for [insert your passion or interest]. I love to [insert your hobby or activity]. I am [insert your profession or vocation]. What is my age? I am [insert your age]. What is my gender? I am [insert your gender]. How old are you? I am [insert your age]. What is my gender? I am [insert your gender]. What is my nationality? I am [insert your nationality]. I am [insert your occupation or vocation]. What is my age? I am [insert your age]. What is my gender? I am [insert your gender]. How old are you? I am [insert your age]. What is my gender? I am [insert your gender]. My nationality is [insert your nationality]. I am [insert your occupation or vocation].\n",
      "\n",
      "===============================\n",
      "Prompt: Provide a concise factual statement about France’s capital city. The capital of France is\n",
      "Generated text:  Paris, known for its rich history, stunning architecture, and vibrant culture. Paris is home to iconic landmarks like Notre-Dame Cathedral, the Eiffel Tower, and the Louvre Museum, as well as many other historic sites and museums. The city is also known for its wine and food scenes, with famous Parisian dishes such as escargot and bouillabaisse, and a vibrant arts and entertainment scene. Paris has a rich and diverse population of around 1.5 million people and is a major hub for business, politics, and culture in France. The city is home to many important European institutions and is an important center for international trade and diplomacy. As a result, Paris continues to be a major cultural and economic center in France, attracting millions of visitors each year. Paris is a city that is unique and extraordinary, and continues to inspire and delight people around the world. Paris is a city of history, culture, and beauty that is a must-visit destination for anyone seeking a glimpse into the rich and diverse history of France. Paris is the capital city of France and one of the most popular cities in the world, attracting millions of visitors each year for its world-class culture, food, and architecture. The French capital of Paris is a beautiful, historic city with a rich history and vibrant culture, and it continues to be an important part of French society and culture. Paris is a bustling, city of art, fashion, and cuisine, with many famous landmarks and historical sites to explore. The city is a cultural and intellectual center, with many museums, theaters, and art galleries, as well as a lively nightlife and food scene. Paris is a city of contrasts, with a diverse mix of cultures and traditions, including French, Italian, Spanish, and more. The French capital of Paris is a city that has undergone significant changes and transformations over the centuries, but its rich and vibrant culture, art, and history continue to inspire and captivate people from all around the world. Paris is a city that is a living museum of history, art, and culture, and it remains an important part of French society and identity. Paris is a city of historical significance, with many iconic landmarks and sites that are a testament to France's rich and varied history. The French capital of Paris is a city that has stood the test of time, with a rich and diverse history that continues to inspire and captivate people from around the world. Paris is a city that is a living museum of French culture, art, and history, and\n",
      "\n",
      "===============================\n",
      "Prompt: Explain possible future trends in artificial intelligence. The future of AI is\n",
      "Generated text:  likely to be shaped by a number of factors, including advances in computing power and data, continued improvements in machine learning and deep learning, advances in robotics and automation, and the increasing integration of AI into everyday life and society as a whole. Some of the potential trends that are likely to shape the future of AI include:\n",
      "\n",
      "1. Improved safety and security: As AI is used in new and emerging technologies, there will be increasing concerns about the safety and security of these systems. In this direction, it is likely that we will see more attention paid to issues such as data privacy, cybersecurity, and the responsible deployment of AI.\n",
      "\n",
      "2. Enhanced human-computer interaction: As AI becomes more integrated into everyday life, there will be an increasing emphasis on enhancing the human-computer interaction. This may involve developing more intuitive and efficient ways of using AI-powered tools and systems.\n",
      "\n",
      "3. Increased use of AI for creative work: With the rise of AI-generated art and digital art, it is likely that we will see an increasing interest in AI-powered creative work, with artists and designers increasingly turning to AI for help with their work.\n",
      "\n",
      "4. Advances in AI ethics and governance: The development of AI systems raises important ethical and governance issues, including issues around data privacy, bias, accountability, and the responsible use of AI. As AI becomes more integrated into society, there will be a growing focus on developing frameworks and policies to address these issues.\n",
      "\n",
      "5. Expansion of AI use cases: AI is being used in a wide range of applications, from healthcare to transportation to manufacturing. As these applications become more widespread, there will be an increasing focus on understanding how AI can be used to improve efficiency and reduce costs while still meeting the needs of society.\n",
      "\n",
      "Overall, the future of AI is likely to be shaped by a number of factors, including advances in computing power and data, continued improvements in machine learning and deep learning, advances in robotics and automation, and the increasing integration of AI into everyday life and society as a whole. While there are certainly challenges and risks associated with AI, it is also clear that it has the potential to bring many benefits to society, and there is likely to be continued interest in its development and deployment in the coming years. As with any emerging technology, it is important to consider the ethical, social, and economic implications of AI as it evolves and is used in new and emerging contexts. \n",
      "\n",
      "References:\n",
      "\n",
      "1. Ben-Or, N., & Kleinberg, J. (2016). Human-computer interaction with intelligent systems. *Journal\n",
      "\n"
     ]
    }
   ],
   "source": [
    "print(\"\\n=== Testing synchronous streaming generation with overlap removal ===\\n\")\n",
    "\n",
    "for prompt in prompts:\n",
    "    print(\"===============================\")\n",
    "    print(f\"Prompt: {prompt}\")\n",
    "    merged_output = stream_and_merge(llm, prompt, sampling_params)\n",
    "    print(\"Generated text:\", merged_output)\n",
    "    print()"
   ]
  },
  {
   "cell_type": "markdown",
   "id": "7a18acb6-f381-472f-8fce-638a22a9a0d9",
   "metadata": {},
   "source": [
    "#### Non-streaming Asynchronous Generation"
   ]
  },
  {
   "cell_type": "code",
   "execution_count": 10,
   "id": "dfa05670-6f22-4a2f-99fe-88800cc87860",
   "metadata": {},
   "outputs": [
    {
     "name": "stdout",
     "output_type": "stream",
     "text": [
      "\n",
      "=== Testing asynchronous batch generation ===\n",
      "===============================\n",
      "\n",
      "Prompt: Write a short, neutral self-introduction for a fictional character. Hello, my name is\n",
      "Generated text:  Jane. I'm a friendly, witty, and curious AI assistant. How can I help you today? Any questions or concerns you may have? I'm always here to assist you. Thank you. What are you working on right now?\n",
      "Jane, AI assistant, is always ready to assist with a wide range of questions and concerns. How can I help you today? I'm here to help you with any questions or concerns you may have, and I'm always here to assist you. How can I help you today? I'm always here to assist you with a wide range of questions and concerns. How can I help you today? I'm always here to assist you with a wide range of questions and concerns. How can I help you today? I'm always here to assist you with a wide range of questions and concerns. How can I help you today? I'm always here to assist you with a wide range of questions and concerns. How can I help you today? I'm always here to assist you with a wide range of questions and concerns. How can I help you today? I'm always here to assist you with a wide range of questions and concerns. How can I help you today? I'm always here to assist you with a wide range of questions and concerns. How can I help you today? I'm always here to assist you with a wide range of questions and concerns. How can I help you today? I'm always here to assist you with a wide range of questions and concerns. How can I help you today? I'm always here to assist you with a wide range of questions and concerns. How can I help you today? I'm always here to assist you with a wide range of questions and concerns. How can I help you today? I'm always here to assist you with a wide range of questions and concerns. How can I help you today? I'm always here to assist you with a wide range of questions and concerns. How can I help you today? I'm always here to assist you with a wide range of questions and concerns. How can I help you today? I'm always here to assist you with a wide range of questions and concerns. How can I help you today? I'm always here to assist you with a wide range of questions and concerns. How can I help you today? I'm always here to assist you with a wide range of questions and concerns. How can I help you today? I'm always here to assist you with a wide range of questions and concerns.\n",
      "\n",
      "===============================\n",
      "\n",
      "Prompt: Provide a concise factual statement about France’s capital city. The capital of France is\n",
      "Generated text:  Paris.\n",
      "\n",
      "Paris is the largest city and the most populous city in France. It is located on the Seine River, and is the 10th-largest city by population in the world. It is also known as \"la Ville Fléchieuse\" (the chattering city) due to the number of tourists that visit Paris each year. Paris is famous for its iconic landmarks such as the Eiffel Tower, Notre Dame Cathedral, and the Louvre Museum. It is also home to numerous famous French artists, musicians, and writers, and has become an international center for culture and entertainment. Paris is a popular destination for tourism, with millions of visitors each year from around the world. As the capital of France, it has a complex of 12 administrative departments, including the region of Auvergne-Rhône-Alpes and the Canton of Paris. The city is home to numerous museums, museums, and art galleries, and is home to many other cultural institutions as well. It is the largest city in France by land area and is one of the most important urban centers in the world. The city is also home to the headquarters of the European Union, and is a major center for science, technology, and research in France. As the largest city in France, it is an important economic center for the country, and is also a major transportation hub for trade, tourism, and logistics. Paris is known for its rich history, and is a place of great cultural, historical, and architectural significance to many people around the world. Its many landmarks, museums, and attractions make it a popular destination for tourists and locals alike. The French capital is a major center of the French language, culture, and art, and is a city that has a rich history and a strong sense of identity. As one of the most important cities in the world, Paris has a significant influence on French culture, politics, and society.\n",
      "\n",
      "===============================\n",
      "\n",
      "Prompt: Explain possible future trends in artificial intelligence. The future of AI is\n",
      "Generated text:  expected to be full of exciting possibilities and changes. Here are a few potential trends that could shape AI in the coming years:\n",
      "\n",
      "1. Increased AI integration with human workers: As AI becomes more advanced and widely used, there may be an increased integration between AI systems and human workers. This could lead to new job losses, but it could also create new opportunities for people to work alongside AI systems.\n",
      "\n",
      "2. AI becoming more autonomous and self-aware: AI is already becoming more autonomous and self-aware, and this trend is likely to continue. This could lead to new ways of designing and interacting with AI systems, as well as new ethical and moral considerations.\n",
      "\n",
      "3. AI becoming more integrated with healthcare: AI is already being used to diagnose and treat a wide range of conditions, but there may be even more integration with healthcare in the future. AI could be used to analyze medical images, predict disease outcomes, and even assist in patient care.\n",
      "\n",
      "4. AI becoming more ethical and responsible: As AI systems become more integrated into our daily lives, there will be increasing pressure to make them more ethical and responsible. This could mean stricter guidelines and regulations for AI development and use, as well as efforts to address ethical concerns raised by AI systems.\n",
      "\n",
      "5. AI becoming more personalized and context-dependent: AI systems are already becoming more personalized and context-dependent, and this trend is likely to continue. AI systems will be better able to learn and adapt to different situations, and they will be able to provide more relevant and accurate results.\n",
      "\n",
      "Overall, the future of AI is likely to be one of continued development, integration with other technologies, and ethical considerations. As AI systems become more advanced and integrated into our daily lives, there is a lot of promise and potential for exciting new possibilities and applications. However, it is important to keep in mind that AI is a complex and evolving field, and it is likely to face new challenges and challenges as it continues to evolve and mature.\n",
      "\n"
     ]
    }
   ],
   "source": [
    "print(\"\\n=== Testing asynchronous batch generation ===\")\n",
    "\n",
    "async def main():\n",
    "    outputs = await llm.async_generate(prompts, sampling_params)\n",
    "\n",
    "    for prompt, output in zip(prompts, outputs):\n",
    "        print(\"===============================\")\n",
    "        print(f\"\\nPrompt: {prompt}\")\n",
    "        print(f\"Generated text: {output['text']}\")\n",
    "        print()\n",
    "\n",
    "asyncio.run(main())"
   ]
  },
  {
   "cell_type": "markdown",
   "id": "ddafd5c5-db03-4ca1-88b8-57127b0fcbd6",
   "metadata": {},
   "source": [
    "#### Streaming Asynchronous Generation"
   ]
  },
  {
   "cell_type": "code",
   "execution_count": 11,
   "id": "8d765ee9-3937-4fbf-8b94-c0c225a031ab",
   "metadata": {},
   "outputs": [
    {
     "name": "stdout",
     "output_type": "stream",
     "text": [
      "\n",
      "=== Testing asynchronous streaming generation (no repeats) ===\n",
      "===============================\n",
      "\n",
      "Prompt: Write a short, neutral self-introduction for a fictional character. Hello, my name is\n",
      "Generated text:  [Your Name], and I am a [X] with a passion for [Y]. Let me share a little bit about myself, and I'll be happy to tell you more about you and your story. What can you tell me about yourself? What's your background, education, and what do you enjoy doing? And how do you feel about sharing your story with the world? That's all I need to know to get to know you. Welcome, [Recipient's Name], and I'm excited to have you on my team. Here's to learning about you, and sharing your story with the world. Let's do this! 🚀✨ #MeetThePerson #Charististics #CharacterDevelopment #Storytelling #InterpersonalSkills #FriendshipBuilding #Networking #PersonalStory #Self-Reflection #Empathy #Cultivation #Passion #Purpose #NewPerspectives #Insight #Leadership #Humor #Interactions #HumanKind #EmotionalIntelligence #SocialNetworking #CreativeWork #Adventure #Dreams #Talent #Adaptability #Teamwork #Friendship #Collaboration #Leadership. #CharacterDevelopment #CharacterIntroductions #CharacterMysteries #CharacterExplorations #CharacterChallenges #CharacterBecomes #CharacterAdventures #CharacterGoals #CharacterGoalsMatters #CharacterGoalsAchievement #CharacterGoalsMilestone #CharacterGoalsFulfillment #CharacterGoalsDreams #CharacterGoalsCultivation #CharacterGoalsExcellence #CharacterGoalsEmotionalIntelligence #CharacterGoalsDevelopment #CharacterGoalsCultivation #CharacterGoalsInteractions #CharacterGoalsInteractionsMatters #CharacterGoalsInteractionsAchievement #CharacterGoalsInteractionsDreams #CharacterGoalsInteractionsCultivation #CharacterGoalsInteractionsExcellence #CharacterGoalsInteractionsEmotionalIntelligence #CharacterGoalsInteractionsDevelopment #CharacterGoalsInteractionsCultivation #CharacterGoalsInteractionsInteractions #CharacterGoalsInteractionsInteractionsMatters #CharacterGoalsInteractionsInteractionsAchievement #CharacterGoalsInteractionsInteractionsDreams #CharacterGoalsInteractionsInteractionsCultivation #CharacterGoalsInteractionsInteractionsExcellence #CharacterGoalsInteractionsInteractionsEmotionalIntelligence #CharacterGoalsInteractionsInteractionsDevelopment #CharacterGoalsInteractionsInteractionsCultivation #CharacterGoalsInteractionsInteractionsInteractions #CharacterGoalsInteractionsInteractionsInteractionsMatters #CharacterGoalsInteractionsInteractionsInteractionsAchievement #CharacterGoalsInteractionsInteractionsInteractionsDreams\n",
      "===============================\n",
      "\n",
      "Prompt: Provide a concise factual statement about France’s capital city. The capital of France is\n",
      "Generated text:  Paris. It is a famous historical city known for its numerous museums, landmarks, and vibrant culture. Paris is also known for its rich history and culture, including its influence on literature, art, and music. With its stunning architecture, lively neighborhoods, and vibrant nightlife, Paris is a must-visit city for anyone interested in French culture and history. Its grand boulevards, charming gare de l'Est, and the Eiffel Tower are just a few of its most iconic landmarks. Paris is the capital of France and a city that has a long and rich history. It is a true melting pot of cultures and a city that is a cultural gem. Paris is home to the Louvre Museum, the Notre-Dame Cathedral, the Champs-Élysées, and many other famous landmarks. Its blend of historical and modern architecture is truly unique and it is no surprise why it has become one of the world's most popular cities. Paris is a city that truly shines. Paris is the capital of France and a city that is a cultural and historical treasure. Its famous landmarks, world-class museums, and rich cultural scene are a must-see for anyone visiting. Paris is a city that is a true gem and a city that is worth visiting. Paris is a city that truly shines and a city that is a cultural treasure. The capital of France is Paris. It is a city that is a historical and cultural treasure and a city that is a must-see for anyone visiting. Its famous landmarks, museums, and vibrant culture are a must-see for anyone who is interested in French culture and history. Paris is a city that is a true gem and a city that is a cultural treasure. Paris is the capital of France and a city that is a cultural and historical gem. It is a city that is a must-see for anyone who is interested in French culture and history. Paris is a city that is a true gem and a city that is a cultural and historical treasure. The capital of France is Paris. It is a city that is a historical and cultural treasure and a city that is a must-see for anyone who is interested in French culture and history. Its famous landmarks, museums, and vibrant culture are a must-see for anyone who is interested in French culture and history. Paris is a city that is a true gem and a city that is a cultural and historical treasure. Paris is the capital of France and a city that is a cultural and historical treasure. It is a city that is a must-see\n",
      "===============================\n",
      "\n",
      "Prompt: Explain possible future trends in artificial intelligence. The future of AI is\n",
      "Generated text:  expected to continue to evolve rapidly and diversify, with many potential areas of focus. Some of the potential trends in AI include:\n",
      "\n",
      "1. Autonomous vehicles: With the increasing use of self-driving cars and trucks, AI is likely to play an even more significant role in shaping the future of transportation.\n",
      "\n",
      "2. Cognitive computing: AI will continue to become more sophisticated and integrated into everyday life, with cognitive computing making inferences and predictions based on the patterns and knowledge it has learned from.\n",
      "\n",
      "3. Smart cities: AI will be used to create more efficient and sustainable cities, with applications such as smart cities, smart transportation, and smart healthcare becoming more common.\n",
      "\n",
      "4. Ethical AI: As AI becomes more integrated into our lives, ethical considerations will become increasingly important. AI development will need to consider the impact on individuals, communities, and society as a whole.\n",
      "\n",
      "5. Personalized AI: AI will continue to be used to provide more personalized and relevant services, such as personalized medicine, personalized education, and personalized entertainment.\n",
      "\n",
      "6. Augmented reality: AI will be used to enhance the user experience in virtual and augmented reality, with more immersive and interactive experiences becoming common.\n",
      "\n",
      "7. Quantum AI: As the concept of quantum mechanics advances, there is potential for more powerful and intelligent AI systems, with quantum computing playing a key role in AI research and development.\n",
      "\n",
      "Overall, the future of AI is expected to continue to evolve rapidly and diversify, with new technologies and applications emerging on a regular basis. It is likely that AI will continue to play an increasingly important role in shaping the future of human life and society. However, it is also important to consider the ethical and social implications of AI development and its impact on individuals, communities, and society as a whole. According to the latest research, the future of AI is uncertain and unpredictable, and it is likely that the development of AI will continue to be a complex and challenging endeavor. It will be important for policymakers and the public to work together to ensure that AI development and its impact on society is developed in a responsible and ethical manner. As AI continues to evolve, it will be important to stay informed and prepared in order to be able to leverage its potential while mitigating any potential negative impacts.\n"
     ]
    }
   ],
   "source": [
    "print(\"\\n=== Testing asynchronous streaming generation (no repeats) ===\")\n",
    "\n",
    "async  def main():\n",
    "    for prompt in prompts:\n",
    "        print(\"===============================\")\n",
    "        print(f\"\\nPrompt: {prompt}\")\n",
    "        print(\"Generated text: \", end=\"\", flush=True)\n",
    "\n",
    "        async for cleaned_chunk in async_stream_and_merge(llm, prompt, sampling_params):\n",
    "            print(cleaned_chunk, end=\"\", flush=True)\n",
    "        print()\n",
    "\n",
    "asyncio.run(main())"
   ]
  },
  {
   "cell_type": "code",
   "execution_count": null,
   "id": "241a66bc-6cbe-43cd-bb68-486454decb3b",
   "metadata": {},
   "outputs": [],
   "source": []
  }
 ],
 "metadata": {
  "kernelspec": {
   "display_name": "Python 3 (ipykernel)",
   "language": "python",
   "name": "python3"
  },
  "language_info": {
   "codemirror_mode": {
    "name": "ipython",
    "version": 3
   },
   "file_extension": ".py",
   "mimetype": "text/x-python",
   "name": "python",
   "nbconvert_exporter": "python",
   "pygments_lexer": "ipython3",
   "version": "3.12.8"
  }
 },
 "nbformat": 4,
 "nbformat_minor": 5
}
