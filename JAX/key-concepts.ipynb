{
 "cells": [
  {
   "cell_type": "code",
   "execution_count": 1,
   "id": "8a67285e-10ae-476b-ac96-d13309dc1ba8",
   "metadata": {},
   "outputs": [],
   "source": [
    "import jax\n",
    "import jax.numpy as jnp"
   ]
  },
  {
   "cell_type": "markdown",
   "id": "0ae84c37-25a9-416a-9b50-54f745efa4ec",
   "metadata": {},
   "source": [
    "#### Transformations"
   ]
  },
  {
   "cell_type": "code",
   "execution_count": 5,
   "id": "fc2a3b0f-062b-493e-ad74-d519eca0a346",
   "metadata": {},
   "outputs": [
    {
     "name": "stdout",
     "output_type": "stream",
     "text": [
      "1.05\n"
     ]
    }
   ],
   "source": [
    "def selu(x, alpha=1.67, lambda_=1.05):\n",
    "    return lambda_ * jnp.where(x > 0, x, alpha * jnp.exp(x) - alpha)\n",
    "\n",
    "selu_jit = jax.jit(selu)\n",
    "print(selu_jit(1.0))"
   ]
  },
  {
   "cell_type": "code",
   "execution_count": 9,
   "id": "53a59baa-4533-44fe-ab9e-d6ca71d414c7",
   "metadata": {},
   "outputs": [
    {
     "data": {
      "text/plain": [
       "Array(1.05, dtype=float32, weak_type=True)"
      ]
     },
     "execution_count": 9,
     "metadata": {},
     "output_type": "execute_result"
    }
   ],
   "source": [
    "@jax.jit\n",
    "def selu(x, alpha=1.67, lambda_=1.05):\n",
    "  return lambda_ * jnp.where(x > 0, x, alpha * jnp.exp(x) - alpha)\n",
    "\n",
    "selu(1.0)"
   ]
  },
  {
   "cell_type": "markdown",
   "id": "6e3518a4-26a8-4e44-b5a8-aef481131e98",
   "metadata": {},
   "source": [
    "#### Tracing"
   ]
  },
  {
   "cell_type": "code",
   "execution_count": 11,
   "id": "61bb4cbf-ad5e-47ea-9ffd-76a30f73d583",
   "metadata": {},
   "outputs": [
    {
     "name": "stdout",
     "output_type": "stream",
     "text": [
      "Traced<ShapedArray(int32[5])>with<DynamicJaxprTrace(level=1/0)>\n"
     ]
    }
   ],
   "source": [
    "@jax.jit\n",
    "def f(x):\n",
    "    print(x)\n",
    "    return x + 1\n",
    "\n",
    "x = jnp.arange(5)\n",
    "result = f(x)"
   ]
  },
  {
   "cell_type": "markdown",
   "id": "487b050b-5418-4e0c-a382-6293ee637478",
   "metadata": {},
   "source": [
    "#### Jaxprs"
   ]
  },
  {
   "cell_type": "code",
   "execution_count": 12,
   "id": "6b080dbb-f73e-4fb5-a9ba-7cc43d142b8b",
   "metadata": {},
   "outputs": [
    {
     "data": {
      "text/plain": [
       "{ lambda ; a:f32[5]. let\n",
       "    b:f32[5] = pjit[\n",
       "      name=selu\n",
       "      jaxpr={ lambda ; c:f32[5]. let\n",
       "          d:bool[5] = gt c 0.0\n",
       "          e:f32[5] = exp c\n",
       "          f:f32[5] = mul 1.6699999570846558 e\n",
       "          g:f32[5] = sub f 1.6699999570846558\n",
       "          h:f32[5] = pjit[\n",
       "            name=_where\n",
       "            jaxpr={ lambda ; i:bool[5] j:f32[5] k:f32[5]. let\n",
       "                l:f32[5] = select_n i k j\n",
       "              in (l,) }\n",
       "          ] d c g\n",
       "          m:f32[5] = mul 1.0499999523162842 h\n",
       "        in (m,) }\n",
       "    ] a\n",
       "  in (b,) }"
      ]
     },
     "execution_count": 12,
     "metadata": {},
     "output_type": "execute_result"
    }
   ],
   "source": [
    "x = jnp.arange(5.0)\n",
    "jax.make_jaxpr(selu)(x)"
   ]
  },
  {
   "cell_type": "markdown",
   "id": "b5a1b9e8-9729-490d-b0d1-03be1e0b3252",
   "metadata": {},
   "source": [
    "#### Pytrees"
   ]
  },
  {
   "cell_type": "code",
   "execution_count": 14,
   "id": "2dca2537-eafa-4d57-a638-cefe4d00fe47",
   "metadata": {},
   "outputs": [
    {
     "name": "stdout",
     "output_type": "stream",
     "text": [
      "PyTreeDef([*, *, (*, *)])\n",
      "[1, 2, Array([0, 1, 2], dtype=int32), Array([1., 1.], dtype=float32)]\n"
     ]
    }
   ],
   "source": [
    "params = [1, 2, (jnp.arange(3), jnp.ones(2))]\n",
    "\n",
    "print(jax.tree.structure(params))\n",
    "print(jax.tree.leaves(params))"
   ]
  },
  {
   "cell_type": "code",
   "execution_count": 15,
   "id": "b7dd720d-396b-4017-82e0-02525d0681e6",
   "metadata": {},
   "outputs": [
    {
     "name": "stdout",
     "output_type": "stream",
     "text": [
      "PyTreeDef({'W': *, 'b': *, 'n': *})\n",
      "[Array([[1., 1.],\n",
      "       [1., 1.]], dtype=float32), Array([0., 0.], dtype=float32), 5]\n"
     ]
    }
   ],
   "source": [
    "params = {'n': 5, 'W': jnp.ones((2, 2)), 'b': jnp.zeros(2)}\n",
    "\n",
    "print(jax.tree.structure(params))\n",
    "print(jax.tree.leaves(params))"
   ]
  },
  {
   "cell_type": "code",
   "execution_count": 16,
   "id": "e3f0645d-ba70-4bc5-b403-a1a0e8aed929",
   "metadata": {},
   "outputs": [
    {
     "name": "stdout",
     "output_type": "stream",
     "text": [
      "PyTreeDef(CustomNode(namedtuple[Params], [*, *]))\n",
      "[1, 5.0]\n"
     ]
    }
   ],
   "source": [
    "from typing import NamedTuple\n",
    "\n",
    "class Params(NamedTuple):\n",
    "  a: int\n",
    "  b: float\n",
    "\n",
    "params = Params(1, 5.0)\n",
    "print(jax.tree.structure(params))\n",
    "print(jax.tree.leaves(params))"
   ]
  },
  {
   "cell_type": "code",
   "execution_count": null,
   "id": "b86fe740-0124-4dec-ab86-5a61dc0df348",
   "metadata": {},
   "outputs": [],
   "source": []
  }
 ],
 "metadata": {
  "kernelspec": {
   "display_name": "Python 3 (ipykernel)",
   "language": "python",
   "name": "python3"
  },
  "language_info": {
   "codemirror_mode": {
    "name": "ipython",
    "version": 3
   },
   "file_extension": ".py",
   "mimetype": "text/x-python",
   "name": "python",
   "nbconvert_exporter": "python",
   "pygments_lexer": "ipython3",
   "version": "3.10.18"
  }
 },
 "nbformat": 4,
 "nbformat_minor": 5
}
